{
 "cells": [
  {
   "cell_type": "markdown",
   "id": "a8d9d30d",
   "metadata": {},
   "source": [
    "# No.1"
   ]
  },
  {
   "cell_type": "markdown",
   "id": "9b7cdd54",
   "metadata": {},
   "source": [
    "### String dan metodenya"
   ]
  },
  {
   "cell_type": "code",
   "execution_count": 116,
   "id": "2ae14151",
   "metadata": {},
   "outputs": [
    {
     "data": {
      "text/plain": [
       "'Citra Amelia Intan Permadani'"
      ]
     },
     "execution_count": 116,
     "metadata": {},
     "output_type": "execute_result"
    }
   ],
   "source": [
    "string = \"Citra Amelia Intan Permadani\"\n",
    "string"
   ]
  },
  {
   "cell_type": "code",
   "execution_count": 124,
   "id": "a1ea8be1",
   "metadata": {},
   "outputs": [
    {
     "name": "stdout",
     "output_type": "stream",
     "text": [
      "i\n",
      "\n",
      "a Intan P\n",
      "\n",
      "lia Intan\n"
     ]
    }
   ],
   "source": [
    "#menghasilkan indeks ke 1 dari string\n",
    "print(string[1])\n",
    "print()\n",
    "\n",
    "#menghasilkan indeks ke 11 - 20 dari depan string\n",
    "print(string[11:20])\n",
    "print()\n",
    "\n",
    "#menghasilkan indeks ke 10-19 dari belakang string\n",
    "print(string[-19:-10])"
   ]
  },
  {
   "cell_type": "code",
   "execution_count": 127,
   "id": "e5cfa2d9",
   "metadata": {},
   "outputs": [
    {
     "name": "stdout",
     "output_type": "stream",
     "text": [
      "Citra Amelia Intan Permadani\n",
      "panjang string: 28\n"
     ]
    }
   ],
   "source": [
    "#menghitung panjang string\n",
    "print(string)\n",
    "print('panjang string:', len(string))"
   ]
  },
  {
   "cell_type": "code",
   "execution_count": 133,
   "id": "65080a89",
   "metadata": {},
   "outputs": [
    {
     "name": "stdout",
     "output_type": "stream",
     "text": [
      "awal:  Citra Amelia Intan Permadani \n",
      "hapus spasi: Citra Amelia Intan Permadani\n"
     ]
    }
   ],
   "source": [
    "#menghapus spasi diawal dan diakhir\n",
    "\n",
    "string2 = \" Citra Amelia Intan Permadani \"\n",
    "print('awal:', string2)\n",
    "print('hapus spasi:', string2.strip())"
   ]
  },
  {
   "cell_type": "code",
   "execution_count": 135,
   "id": "c9d668e1",
   "metadata": {},
   "outputs": [
    {
     "name": "stdout",
     "output_type": "stream",
     "text": [
      "awal:  Citra Amelia Intan Permadani \n",
      "huruf kecil:  citra amelia intan permadani \n"
     ]
    }
   ],
   "source": [
    "#mengubah string ke huruf kecil\n",
    "print('awal:', string)\n",
    "print('huruf kecil:', string.lower())"
   ]
  },
  {
   "cell_type": "code",
   "execution_count": 139,
   "id": "d195c01d",
   "metadata": {},
   "outputs": [
    {
     "name": "stdout",
     "output_type": "stream",
     "text": [
      "awal:  Citra Amelia Intan Permadani \n",
      "huruf kapital:  CITRA AMELIA INTAN PERMADANI \n"
     ]
    }
   ],
   "source": [
    "#mengubah string ke huruf kapital\n",
    "print('awal:', string)\n",
    "print('huruf kapital:', string.upper())"
   ]
  },
  {
   "cell_type": "code",
   "execution_count": 141,
   "id": "727063bf",
   "metadata": {},
   "outputs": [
    {
     "name": "stdout",
     "output_type": "stream",
     "text": [
      "awal:  Citra Amelia Intan Permadani \n",
      "ganti huruf:  Cytra Amelya Intan Permadany \n"
     ]
    }
   ],
   "source": [
    "#mengganti nilai string\n",
    "print('awal:', string)\n",
    "print('ganti huruf:', string.replace('i', 'y'))"
   ]
  },
  {
   "cell_type": "code",
   "execution_count": 147,
   "id": "c548de56",
   "metadata": {},
   "outputs": [
    {
     "name": "stdout",
     "output_type": "stream",
     "text": [
      "awal: Hallo, Citra Amelia Intan Permadani\n",
      "dibagi: ['Hallo', ' Citra Amelia Intan Permadani']\n"
     ]
    }
   ],
   "source": [
    "#membagi string ke beberapa substring jika ada pemisah\n",
    "string3 = \"Hallo, Citra Amelia Intan Permadani\"\n",
    "print('awal:', string3)\n",
    "print('dibagi:', string3.split(\",\"))"
   ]
  },
  {
   "cell_type": "code",
   "execution_count": 151,
   "id": "d6217e51",
   "metadata": {},
   "outputs": [
    {
     "name": "stdout",
     "output_type": "stream",
     "text": [
      "Citra AmeliaIntan Permadani\n",
      "Citra Amelia Intan Permadani\n"
     ]
    }
   ],
   "source": [
    "#menggabungkan string\n",
    "string1 = \"Citra Amelia\"\n",
    "string4 = \"Intan Permadani\"\n",
    "\n",
    "stringg = string1 + string4\n",
    "print(stringg) #tidak ada spasi setelah penggabungan\n",
    "\n",
    "striing = string1 + \" \" + string4\n",
    "print(striing) #ada spasi setelah penggabungan"
   ]
  },
  {
   "cell_type": "markdown",
   "id": "907afe62",
   "metadata": {},
   "source": [
    "### List dan metodenya"
   ]
  },
  {
   "cell_type": "code",
   "execution_count": 29,
   "id": "0a95ccc5",
   "metadata": {},
   "outputs": [
    {
     "data": {
      "text/plain": [
       "['Cimel', 3, 8, 2003]"
      ]
     },
     "execution_count": 29,
     "metadata": {},
     "output_type": "execute_result"
    }
   ],
   "source": [
    "lists = [\"Cimel\", 3, 8, 2003]\n",
    "lists"
   ]
  },
  {
   "cell_type": "code",
   "execution_count": 33,
   "id": "619ed8d0",
   "metadata": {},
   "outputs": [
    {
     "data": {
      "text/plain": [
       "2003"
      ]
     },
     "execution_count": 33,
     "metadata": {},
     "output_type": "execute_result"
    }
   ],
   "source": [
    "lists[3]"
   ]
  },
  {
   "cell_type": "code",
   "execution_count": 34,
   "id": "3a2dc0f6",
   "metadata": {},
   "outputs": [
    {
     "data": {
      "text/plain": [
       "4"
      ]
     },
     "execution_count": 34,
     "metadata": {},
     "output_type": "execute_result"
    }
   ],
   "source": [
    "len(lists)"
   ]
  },
  {
   "cell_type": "code",
   "execution_count": 35,
   "id": "8e732a4b",
   "metadata": {},
   "outputs": [
    {
     "data": {
      "text/plain": [
       "['Cimel', 3, 8, 2003, 6]"
      ]
     },
     "execution_count": 35,
     "metadata": {},
     "output_type": "execute_result"
    }
   ],
   "source": [
    "lists.append(6)\n",
    "lists"
   ]
  },
  {
   "cell_type": "code",
   "execution_count": 36,
   "id": "91412faf",
   "metadata": {},
   "outputs": [
    {
     "data": {
      "text/plain": [
       "8"
      ]
     },
     "execution_count": 36,
     "metadata": {},
     "output_type": "execute_result"
    }
   ],
   "source": [
    "lists[-3]"
   ]
  },
  {
   "cell_type": "code",
   "execution_count": 37,
   "id": "68e9410b",
   "metadata": {},
   "outputs": [
    {
     "data": {
      "text/plain": [
       "2003"
      ]
     },
     "execution_count": 37,
     "metadata": {},
     "output_type": "execute_result"
    }
   ],
   "source": [
    "lists[len(lists) - 2]"
   ]
  },
  {
   "cell_type": "code",
   "execution_count": 38,
   "id": "1fdcfc82",
   "metadata": {},
   "outputs": [
    {
     "data": {
      "text/plain": [
       "['Cimel', 3]"
      ]
     },
     "execution_count": 38,
     "metadata": {},
     "output_type": "execute_result"
    }
   ],
   "source": [
    "lists[0:2]"
   ]
  },
  {
   "cell_type": "code",
   "execution_count": 39,
   "id": "aeffda2a",
   "metadata": {},
   "outputs": [
    {
     "data": {
      "text/plain": [
       "[8, 2003, 6]"
      ]
     },
     "execution_count": 39,
     "metadata": {},
     "output_type": "execute_result"
    }
   ],
   "source": [
    "lists[-3:]"
   ]
  },
  {
   "cell_type": "code",
   "execution_count": 40,
   "id": "a2b9bafc",
   "metadata": {},
   "outputs": [
    {
     "data": {
      "text/plain": [
       "['Cimel', 3]"
      ]
     },
     "execution_count": 40,
     "metadata": {},
     "output_type": "execute_result"
    }
   ],
   "source": [
    "lists[:-3]"
   ]
  },
  {
   "cell_type": "code",
   "execution_count": 41,
   "id": "0ca67925",
   "metadata": {},
   "outputs": [
    {
     "data": {
      "text/plain": [
       "[6, 3]"
      ]
     },
     "execution_count": 41,
     "metadata": {},
     "output_type": "execute_result"
    }
   ],
   "source": [
    "lists[-1::-3]"
   ]
  },
  {
   "cell_type": "code",
   "execution_count": 42,
   "id": "c53f80e0",
   "metadata": {},
   "outputs": [
    {
     "name": "stdout",
     "output_type": "stream",
     "text": [
      "Cimel\n",
      "3\n",
      "8\n",
      "2003\n",
      "6\n"
     ]
    }
   ],
   "source": [
    "for a in lists:\n",
    "    print(a)"
   ]
  },
  {
   "cell_type": "code",
   "execution_count": 83,
   "id": "3d4eb268",
   "metadata": {},
   "outputs": [],
   "source": [
    "list_1 = [2, 3, 8, 6, 0, 13, 23, 27, 29, 3, 6]"
   ]
  },
  {
   "cell_type": "code",
   "execution_count": 84,
   "id": "eb234c30",
   "metadata": {},
   "outputs": [
    {
     "data": {
      "text/plain": [
       "[0, 2, 3, 6, 8, 13, 23, 27, 29]"
      ]
     },
     "execution_count": 84,
     "metadata": {},
     "output_type": "execute_result"
    }
   ],
   "source": [
    "#fungsi set untuk menghilangkan nilai double dan mengurutkan dari yang terkecil\n",
    "#kemudian mengggunakan fungsi list untuk menghasilkan output set ke list kembali seperti awal\n",
    "sets_2 = list(set(list_1))\n",
    "sets_2"
   ]
  },
  {
   "cell_type": "code",
   "execution_count": 88,
   "id": "b68ad679",
   "metadata": {},
   "outputs": [],
   "source": [
    "set1 = {\"cim\", \"chan\", \"hae\"}\n",
    "set2 = {\"hae\", \"chan\", \"min\", \"no\", \"jun\", \"le\", \"sung\"}"
   ]
  },
  {
   "cell_type": "code",
   "execution_count": 89,
   "id": "7accdb1f",
   "metadata": {},
   "outputs": [
    {
     "data": {
      "text/plain": [
       "{'chan', 'cim', 'hae', 'jun', 'le', 'min', 'no', 'sung'}"
      ]
     },
     "execution_count": 89,
     "metadata": {},
     "output_type": "execute_result"
    }
   ],
   "source": [
    "#UNION/gabungan \n",
    "set1 | set2"
   ]
  },
  {
   "cell_type": "code",
   "execution_count": 90,
   "id": "b1c57a7d",
   "metadata": {},
   "outputs": [
    {
     "data": {
      "text/plain": [
       "{'chan', 'hae'}"
      ]
     },
     "execution_count": 90,
     "metadata": {},
     "output_type": "execute_result"
    }
   ],
   "source": [
    "#INTERSECTION/irisan\n",
    "set1 & set2"
   ]
  },
  {
   "cell_type": "code",
   "execution_count": 82,
   "id": "819146e7",
   "metadata": {},
   "outputs": [],
   "source": [
    "#cara mengatasi list object not callable\n",
    "list = [1, 2, 3, 4, 5]\n",
    "del list\n",
    "new_list = list()"
   ]
  },
  {
   "cell_type": "markdown",
   "id": "a34df080",
   "metadata": {},
   "source": [
    "### Dictionary dan metodenya"
   ]
  },
  {
   "cell_type": "code",
   "execution_count": 96,
   "id": "6bf16f20",
   "metadata": {},
   "outputs": [
    {
     "data": {
      "text/plain": [
       "{'key1': 'cimel', 'key2': 'hae', 'key3': 2023, 'key4': 36}"
      ]
     },
     "execution_count": 96,
     "metadata": {},
     "output_type": "execute_result"
    }
   ],
   "source": [
    "dict2 = {\"key1\": \"cimel\", \"key2\": \"hae\", \\\n",
    "       \"key3\": 2023, \"key4\": 36}\n",
    "dict2"
   ]
  },
  {
   "cell_type": "code",
   "execution_count": 97,
   "id": "215f1d41",
   "metadata": {
    "scrolled": true
   },
   "outputs": [
    {
     "data": {
      "text/plain": [
       "{'key1': 'cimel',\n",
       " 'key2': 'hae',\n",
       " 'key3': 2023,\n",
       " 'key4': 36,\n",
       " 'key5': 'mark',\n",
       " 'key6': 28}"
      ]
     },
     "execution_count": 97,
     "metadata": {},
     "output_type": "execute_result"
    }
   ],
   "source": [
    "dict_1 = {\"key1\": \"cimel\", \"key2\": \"hae\", \\\n",
    "       \"key3\": 2023, \"key4\": 36, \\\n",
    "       \"key5\": \"mark\", \"key6\": 28}\n",
    "dict_1"
   ]
  },
  {
   "cell_type": "code",
   "execution_count": 99,
   "id": "bc336832",
   "metadata": {},
   "outputs": [
    {
     "data": {
      "text/plain": [
       "{'key1': 'cimel', 'key2': 'hae', 'key3': 2023, 'key4': 36}"
      ]
     },
     "execution_count": 99,
     "metadata": {},
     "output_type": "execute_result"
    }
   ],
   "source": [
    "#menyalin value dari dict2\n",
    "salin_dict = dict2.copy()\n",
    "salin_dict"
   ]
  },
  {
   "cell_type": "code",
   "execution_count": 98,
   "id": "a749adce",
   "metadata": {},
   "outputs": [
    {
     "data": {
      "text/plain": [
       "{'key1': 'cimel', 'key2': 'hae', 'key4': 36, 'key5': 'mark', 'key6': 28}"
      ]
     },
     "execution_count": 98,
     "metadata": {},
     "output_type": "execute_result"
    }
   ],
   "source": [
    "#menghapus salah satu value do dictionary\n",
    "del dict_1[\"key3\"]\n",
    "dict_1"
   ]
  },
  {
   "cell_type": "code",
   "execution_count": 100,
   "id": "5c91afd4",
   "metadata": {},
   "outputs": [
    {
     "name": "stdout",
     "output_type": "stream",
     "text": [
      "Sebelum dihapus: {'key1': 'cimel', 'key2': 'hae', 'key3': 2023, 'key4': 36}\n",
      "Setelah dihapus: {}\n"
     ]
    }
   ],
   "source": [
    "print(\"Sebelum dihapus:\", salin_dict)\n",
    "\n",
    "#menghapus semua elemen dalam salinan dict \n",
    "salin_dict.clear()\n",
    "print(\"Setelah dihapus:\", salin_dict)"
   ]
  },
  {
   "cell_type": "code",
   "execution_count": 105,
   "id": "20261b78",
   "metadata": {},
   "outputs": [
    {
     "name": "stdout",
     "output_type": "stream",
     "text": [
      "Rasa Buah: {'pisang': 'manis', 'buah-naga': 'manis', 'mangga': 'manis', 'durian': 'manis'}\n"
     ]
    }
   ],
   "source": [
    "#membuat onjek dict baru dimana nama indeks/kuncinya dari dict yang dituju\n",
    "buah = {'mangga', 'pisang', 'buah-naga', 'durian'}\n",
    "\n",
    "random_buah = dict.fromkeys(buah, 'manis')\n",
    "print(\"Rasa Buah:\", random_buah)"
   ]
  },
  {
   "cell_type": "code",
   "execution_count": 106,
   "id": "2537c952",
   "metadata": {},
   "outputs": [
    {
     "name": "stdout",
     "output_type": "stream",
     "text": [
      "nama buah: {'pisang', 'buah-naga', 'mangga', 'durian'}\n",
      "\n",
      "jumlah elemen: 4\n"
     ]
    }
   ],
   "source": [
    "print(\"nama buah:\", buah)\n",
    "print()\n",
    "\n",
    "#menghitung jumlah elemen dalam dictionary buah\n",
    "print(\"jumlah elemen:\", len(buah))"
   ]
  },
  {
   "cell_type": "code",
   "execution_count": 112,
   "id": "5bac1ce1",
   "metadata": {},
   "outputs": [
    {
     "name": "stdout",
     "output_type": "stream",
     "text": [
      "a:  buah-naga\n",
      "b:  pisang\n",
      "c:  durian\n"
     ]
    }
   ],
   "source": [
    "# mendefinisikan dictionary\n",
    "buah = {'kuning':'mangga', 'kuning':'pisang', 'merah':'buah-naga', 'berduri':'durian'}\n",
    "\n",
    "# mencari elemen\n",
    "a = buah.get('merah')\n",
    "b = buah.get('kuning')\n",
    "c = buah.get('berduri')\n",
    "\n",
    "#mencetak hasil\n",
    "print(\"a: \", a)\n",
    "print(\"b: \", b)\n",
    "print(\"c: \", c)\n",
    "\n",
    "#membuktikan bahwa jika ada satu kunci untuk 2 elemen maka diambil salah satu"
   ]
  },
  {
   "cell_type": "code",
   "execution_count": 111,
   "id": "d45bd15f",
   "metadata": {},
   "outputs": [
    {
     "name": "stdout",
     "output_type": "stream",
     "text": [
      "a:  buah-naga\n",
      "b:  pisang\n",
      "c:  durian\n",
      "d:  mangga\n"
     ]
    }
   ],
   "source": [
    "# mendefinisikan dictionary\n",
    "buah = {'orange':'mangga', 'kuning':'pisang', 'merah':'buah-naga', 'berduri':'durian'}\n",
    "\n",
    "# mencari elemen\n",
    "a = buah.get('merah')\n",
    "b = buah.get('kuning')\n",
    "c = buah.get('berduri')\n",
    "d = buah.get('orange')\n",
    "\n",
    "\n",
    "#mencetak hasil\n",
    "print(\"a: \", a)\n",
    "print(\"b: \", b)\n",
    "print(\"c: \", c)\n",
    "print(\"d: \", d)"
   ]
  },
  {
   "cell_type": "code",
   "execution_count": 113,
   "id": "f984f48b",
   "metadata": {},
   "outputs": [
    {
     "data": {
      "text/plain": [
       "dict_keys(['kuning', 'merah', 'berduri'])"
      ]
     },
     "execution_count": 113,
     "metadata": {},
     "output_type": "execute_result"
    }
   ],
   "source": [
    "# mendefinisikan dictionary\n",
    "buah = {'kuning':'mangga', 'kuning':'pisang', 'merah':'buah-naga', 'berduri':'durian'}\n",
    "\n",
    "# mencari elemen\n",
    "a = buah.keys()\n",
    "a\n",
    "\n",
    "#menemukan kata kunci dalam dict"
   ]
  },
  {
   "cell_type": "code",
   "execution_count": 115,
   "id": "6f69ea23",
   "metadata": {},
   "outputs": [
    {
     "data": {
      "text/plain": [
       "dict_values(['mangga', 'pisang', 'buah-naga', 'durian'])"
      ]
     },
     "execution_count": 115,
     "metadata": {},
     "output_type": "execute_result"
    }
   ],
   "source": [
    "# mendefinisikan dictionary\n",
    "buah = {'orange':'mangga', 'kuning':'pisang', 'merah':'buah-naga', 'berduri':'durian'}\n",
    "\n",
    "# mencari elemen\n",
    "a = buah.values()\n",
    "a\n",
    "\n",
    "#menemukan value dalam dict"
   ]
  },
  {
   "cell_type": "markdown",
   "id": "9335d394",
   "metadata": {},
   "source": [
    "### Dokumentasi Metode dalam Python"
   ]
  },
  {
   "cell_type": "markdown",
   "id": "42ae465c",
   "metadata": {},
   "source": [
    "Dokumentasi metode atau Docstring dalam python adalah string yang digunakan untuk mendokumentasikan kode kita dimana penggunaannya tepat setelah definisi fungsi, metode, kelas, atau modul. Docstring sendiri terletak di dalam tiga tanda kutip (triple quotes) di bagian atas sebuah fungsi atau metode yang digunakan untuk memberikan dokumentasi dan deskripsi tentang fungsi atau metode tersebut.\n",
    "\n",
    "Selain dapat menambahkan komentar pada objek seperti list, string, dan dictionary, kita juga dapat menambahkan docstring pada objek-objek tersebut. Berikut adalah contoh penggunaan docstring pada objek-objek tersebut:"
   ]
  },
  {
   "cell_type": "code",
   "execution_count": 14,
   "id": "24815911",
   "metadata": {},
   "outputs": [
    {
     "name": "stdout",
     "output_type": "stream",
     "text": [
      "\n",
      "    This function takes a list and returns its length and sum of its elements. \n",
      "    \n",
      "    Fungsi diatas memanggil list yang akan digunakan untuk mengukur serta mengembalikan \n",
      "    nilai panjang dan jumlah elemen dalam list\n",
      "    \n"
     ]
    }
   ],
   "source": [
    "my_list = [1, 2, 3, 4, 5]\n",
    "def get_list_info(my_list):\n",
    "    \"\"\"\n",
    "    This function takes a list and returns its length and sum of its elements. \n",
    "    \n",
    "    Fungsi diatas memanggil list yang akan digunakan untuk mengukur serta mengembalikan \n",
    "    nilai panjang dan jumlah elemen dalam list\n",
    "    \"\"\"\n",
    "    #diatas adalah docstring\n",
    "    \n",
    "    length = len(my_list)\n",
    "    sum_elements = sum(my_list)\n",
    "    return length, sum_elements\n",
    "\n",
    "print(get_list_info.__doc__)"
   ]
  },
  {
   "cell_type": "markdown",
   "id": "c7369bc6",
   "metadata": {},
   "source": [
    "Pada contoh di atas, kita menambahkan docstring pada fungsi 'get_list_info()' yang berisi deskripsi tentang apa yang fungsi tersebut lakukan dan apa yang dihasilkan. Kita dapat memanggil docstring dengan menggunakan atribut '__doc__'."
   ]
  },
  {
   "cell_type": "code",
   "execution_count": 11,
   "id": "47a8a570",
   "metadata": {},
   "outputs": [
    {
     "name": "stdout",
     "output_type": "stream",
     "text": [
      "\n",
      "    This function takes a string and returns its reverse.\n",
      "    \n"
     ]
    }
   ],
   "source": [
    "my_string = \"Hello World!\"\n",
    "def reverse_string(my_string):\n",
    "    \"\"\"\n",
    "    This function takes a string and returns its reverse.\n",
    "    \"\"\"\n",
    "    return my_string[::-1]\n",
    "\n",
    "print(reverse_string.__doc__)"
   ]
  },
  {
   "cell_type": "code",
   "execution_count": 12,
   "id": "0be0df44",
   "metadata": {},
   "outputs": [
    {
     "name": "stdout",
     "output_type": "stream",
     "text": [
      "\n",
      "    This function takes a dictionary and returns its values as a list.\n",
      "    \n"
     ]
    }
   ],
   "source": [
    "my_dict = {'name': 'John', 'age': 30, 'city': 'New York'}\n",
    "def get_dict_values(my_dict):\n",
    "    \"\"\"\n",
    "    This function takes a dictionary and returns its values as a list.\n",
    "    \"\"\"\n",
    "    values = list(my_dict.values())\n",
    "    return values\n",
    "\n",
    "print(get_dict_values.__doc__)"
   ]
  },
  {
   "cell_type": "markdown",
   "id": "d04c0614",
   "metadata": {},
   "source": [
    "# No.2"
   ]
  },
  {
   "cell_type": "markdown",
   "id": "09cc32db",
   "metadata": {},
   "source": [
    "- Membuat list random\n",
    "- Menemukan angka yang habis dibagi 3 dari list random dan mengubahnya ke dalam list\n",
    "- Menghitung panjang list random dan list angka yang habis dibagi 3 lalu diselisih\n",
    "- Membuat loop sebanyak 10 kali dari ketiga step diatas\n",
    "- Menemukan rata-rata aritmatikanya"
   ]
  },
  {
   "cell_type": "code",
   "execution_count": 52,
   "id": "33d4a04f",
   "metadata": {
    "scrolled": true
   },
   "outputs": [
    {
     "name": "stdout",
     "output_type": "stream",
     "text": [
      "\u001b[1mPerulangan ke - 1 \u001b[0m\n",
      "Nomor random: [77, 40, 86, 14, 53, 66, 12, 20, 86, 35, 92, 7, 68, 91, 81, 49, 90, 13, 25, 95, 2, 1, 45, 13, 83, 76, 39, 80, 98, 31, 47, 35, 81, 28, 81, 87, 64, 48, 79, 16, 58, 45, 91, 5, 42, 17, 80, 7, 21, 72, 3, 85, 99, 2, 25, 95, 72, 98, 81, 42, 87, 97, 70, 23, 61, 90, 32, 80, 46, 62, 74, 13, 58, 27, 20, 70, 32, 31, 89, 46, 49, 9, 39, 16, 58, 7, 14, 61, 73, 10, 30, 41, 13, 11, 4, 46, 58, 70, 52, 67]\n",
      "Angka yang habis dibagi 3: [66, 12, 81, 90, 45, 39, 81, 81, 87, 48, 45, 42, 21, 72, 3, 99, 72, 81, 42, 87, 90, 27, 9, 39, 30]\n",
      "\n",
      "Panjang nomor random: 100\n",
      "Panjang angka yang habis dibagi 3: 25\n",
      "Selisih panjang kedua list: 75\n",
      "\n",
      "\u001b[1mPerulangan ke - 2 \u001b[0m\n",
      "Nomor random: [55, 66, 29, 22, 31, 56, 88, 96, 41, 34, 94, 88, 23, 3, 17, 37, 33, 38, 48, 18, 27, 54, 55, 59, 72, 87, 27, 87, 82, 55, 80, 21, 56, 10, 38, 91, 99, 47, 96, 64, 1, 12, 37, 17, 63, 42, 49, 88, 70, 32, 16, 34, 10, 7, 77, 7, 70, 59, 61, 24, 69, 46, 58, 36, 22, 61, 41, 98, 73, 71, 64, 58, 56, 54, 48, 67, 76, 10, 88, 58, 88, 73, 93, 90, 49, 93, 35, 67, 15, 34, 92, 95, 6, 49, 78, 88, 10, 47, 51, 23]\n",
      "Angka yang habis dibagi 3: [66, 96, 3, 33, 48, 18, 27, 54, 72, 87, 27, 87, 21, 99, 96, 12, 63, 42, 24, 69, 36, 54, 48, 93, 90, 93, 15, 6, 78, 51]\n",
      "\n",
      "Panjang nomor random: 100\n",
      "Panjang angka yang habis dibagi 3: 30\n",
      "Selisih panjang kedua list: 70\n",
      "\n",
      "\u001b[1mPerulangan ke - 3 \u001b[0m\n",
      "Nomor random: [14, 93, 75, 98, 37, 4, 78, 87, 42, 80, 64, 11, 14, 73, 93, 28, 21, 63, 89, 11, 37, 7, 15, 97, 18, 3, 98, 20, 92, 45, 25, 18, 58, 27, 12, 13, 11, 31, 43, 17, 39, 63, 95, 27, 72, 42, 16, 63, 47, 53, 13, 73, 80, 5, 96, 66, 30, 60, 65, 19, 95, 63, 75, 1, 91, 4, 17, 8, 49, 65, 80, 26, 30, 24, 64, 4, 89, 89, 62, 2, 82, 15, 58, 41, 28, 87, 42, 4, 61, 41, 94, 86, 74, 2, 61, 91, 46, 69, 83, 10]\n",
      "Angka yang habis dibagi 3: [93, 75, 78, 87, 42, 93, 21, 63, 15, 18, 3, 45, 18, 27, 12, 39, 63, 27, 72, 42, 63, 96, 66, 30, 60, 63, 75, 30, 24, 15, 87, 42, 69]\n",
      "\n",
      "Panjang nomor random: 100\n",
      "Panjang angka yang habis dibagi 3: 33\n",
      "Selisih panjang kedua list: 67\n",
      "\n",
      "\u001b[1mPerulangan ke - 4 \u001b[0m\n",
      "Nomor random: [69, 90, 25, 27, 55, 5, 29, 15, 97, 37, 82, 36, 8, 73, 52, 84, 22, 61, 13, 67, 14, 20, 61, 53, 45, 55, 75, 5, 18, 5, 53, 65, 55, 74, 25, 11, 87, 56, 28, 59, 29, 82, 19, 86, 82, 55, 51, 27, 47, 28, 9, 36, 81, 47, 23, 23, 99, 66, 64, 78, 71, 12, 91, 78, 75, 24, 38, 18, 36, 17, 28, 55, 84, 43, 100, 27, 66, 77, 3, 33, 28, 71, 43, 18, 85, 42, 80, 52, 68, 59, 48, 48, 49, 27, 43, 83, 68, 89, 33, 91]\n",
      "Angka yang habis dibagi 3: [69, 90, 27, 15, 36, 84, 45, 75, 18, 87, 51, 27, 9, 36, 81, 99, 66, 78, 12, 78, 75, 24, 18, 36, 84, 27, 66, 3, 33, 18, 42, 48, 48, 27, 33]\n",
      "\n",
      "Panjang nomor random: 100\n",
      "Panjang angka yang habis dibagi 3: 35\n",
      "Selisih panjang kedua list: 65\n",
      "\n",
      "\u001b[1mPerulangan ke - 5 \u001b[0m\n",
      "Nomor random: [80, 17, 91, 75, 73, 70, 24, 98, 64, 30, 99, 20, 99, 84, 53, 31, 23, 14, 100, 55, 26, 69, 1, 98, 49, 12, 13, 87, 1, 94, 25, 98, 94, 65, 38, 77, 30, 86, 27, 68, 57, 26, 100, 27, 36, 52, 50, 21, 93, 17, 66, 66, 86, 79, 85, 34, 44, 100, 10, 35, 87, 51, 50, 82, 41, 90, 20, 16, 24, 68, 86, 5, 69, 78, 34, 45, 23, 84, 1, 94, 87, 62, 64, 49, 95, 4, 13, 30, 14, 65, 35, 92, 82, 69, 58, 58, 5, 44, 34, 16]\n",
      "Angka yang habis dibagi 3: [75, 24, 30, 99, 99, 84, 69, 12, 87, 30, 27, 57, 27, 36, 21, 93, 66, 66, 87, 51, 90, 24, 69, 78, 45, 84, 87, 30, 69]\n",
      "\n",
      "Panjang nomor random: 100\n",
      "Panjang angka yang habis dibagi 3: 29\n",
      "Selisih panjang kedua list: 71\n",
      "\n",
      "\u001b[1mPerulangan ke - 6 \u001b[0m\n",
      "Nomor random: [2, 62, 33, 27, 15, 97, 15, 87, 63, 68, 38, 3, 50, 51, 40, 18, 11, 14, 98, 36, 87, 44, 40, 28, 73, 7, 54, 73, 83, 45, 22, 68, 4, 69, 50, 42, 19, 17, 4, 5, 28, 63, 94, 95, 48, 2, 77, 26, 60, 75, 75, 28, 56, 39, 94, 97, 49, 69, 100, 67, 87, 74, 52, 60, 20, 78, 48, 48, 42, 31, 81, 8, 43, 30, 9, 5, 90, 33, 100, 41, 51, 44, 93, 9, 87, 6, 27, 66, 76, 33, 64, 45, 82, 38, 31, 59, 86, 98, 97, 7]\n",
      "Angka yang habis dibagi 3: [33, 27, 15, 15, 87, 63, 3, 51, 18, 36, 87, 54, 45, 69, 42, 63, 48, 60, 75, 75, 39, 69, 87, 60, 78, 48, 48, 42, 81, 30, 9, 90, 33, 51, 93, 9, 87, 6, 27, 66, 33, 45]\n",
      "\n",
      "Panjang nomor random: 100\n",
      "Panjang angka yang habis dibagi 3: 42\n",
      "Selisih panjang kedua list: 58\n",
      "\n",
      "\u001b[1mPerulangan ke - 7 \u001b[0m\n",
      "Nomor random: [50, 70, 69, 64, 58, 64, 13, 13, 41, 77, 40, 37, 15, 27, 79, 42, 89, 34, 42, 95, 13, 86, 16, 64, 89, 74, 83, 50, 74, 20, 83, 95, 61, 21, 26, 27, 32, 62, 35, 15, 8, 61, 23, 29, 96, 55, 85, 26, 33, 68, 5, 52, 10, 73, 50, 34, 47, 21, 83, 71, 7, 32, 76, 15, 25, 32, 60, 88, 12, 85, 54, 32, 38, 63, 75, 78, 65, 79, 70, 19, 40, 30, 47, 74, 48, 25, 85, 95, 51, 81, 32, 79, 59, 88, 1, 43, 38, 89, 30, 65]\n",
      "Angka yang habis dibagi 3: [69, 15, 27, 42, 42, 21, 27, 15, 96, 33, 21, 15, 60, 12, 54, 63, 75, 78, 30, 48, 51, 81, 30]\n",
      "\n",
      "Panjang nomor random: 100\n",
      "Panjang angka yang habis dibagi 3: 23\n",
      "Selisih panjang kedua list: 77\n",
      "\n",
      "\u001b[1mPerulangan ke - 8 \u001b[0m\n",
      "Nomor random: [83, 33, 76, 32, 15, 72, 93, 19, 39, 57, 63, 75, 91, 14, 53, 97, 75, 3, 93, 26, 34, 51, 75, 79, 12, 71, 36, 67, 69, 46, 41, 25, 31, 15, 54, 82, 92, 69, 21, 64, 90, 99, 59, 91, 64, 37, 12, 72, 14, 57, 72, 66, 92, 10, 38, 48, 97, 37, 90, 99, 24, 13, 10, 34, 72, 17, 16, 72, 17, 9, 43, 76, 35, 85, 88, 61, 83, 15, 95, 41, 27, 30, 24, 92, 40, 83, 54, 30, 13, 84, 51, 54, 36, 25, 52, 5, 44, 36, 24, 48]\n",
      "Angka yang habis dibagi 3: [33, 15, 72, 93, 39, 57, 63, 75, 75, 3, 93, 51, 75, 12, 36, 69, 15, 54, 69, 21, 90, 99, 12, 72, 57, 72, 66, 48, 90, 99, 24, 72, 72, 9, 15, 27, 30, 24, 54, 30, 84, 51, 54, 36, 36, 24, 48]\n",
      "\n",
      "Panjang nomor random: 100\n",
      "Panjang angka yang habis dibagi 3: 47\n",
      "Selisih panjang kedua list: 53\n",
      "\n",
      "\u001b[1mPerulangan ke - 9 \u001b[0m\n",
      "Nomor random: [77, 13, 39, 74, 29, 89, 97, 83, 89, 47, 59, 70, 73, 77, 7, 7, 25, 89, 39, 60, 63, 32, 85, 83, 98, 14, 1, 86, 85, 96, 60, 60, 13, 76, 5, 65, 40, 53, 1, 56, 91, 98, 85, 92, 9, 37, 17, 18, 3, 25, 68, 28, 10, 1, 88, 88, 96, 15, 61, 13, 4, 21, 38, 33, 59, 14, 30, 18, 71, 19, 58, 45, 89, 39, 13, 47, 73, 85, 27, 63, 12, 61, 93, 31, 38, 94, 54, 70, 23, 88, 81, 66, 83, 69, 77, 57, 5, 25, 31, 40]\n",
      "Angka yang habis dibagi 3: [39, 39, 60, 63, 96, 60, 60, 9, 18, 3, 96, 15, 21, 33, 30, 18, 45, 39, 27, 63, 12, 93, 54, 81, 66, 69, 57]\n",
      "\n",
      "Panjang nomor random: 100\n",
      "Panjang angka yang habis dibagi 3: 27\n",
      "Selisih panjang kedua list: 73\n",
      "\n",
      "\u001b[1mPerulangan ke - 10 \u001b[0m\n",
      "Nomor random: [95, 85, 99, 72, 44, 40, 5, 87, 19, 21, 76, 19, 37, 28, 94, 30, 87, 49, 62, 100, 98, 51, 95, 88, 86, 98, 20, 59, 77, 78, 83, 45, 94, 29, 60, 24, 71, 19, 65, 63, 71, 49, 52, 87, 53, 62, 7, 44, 12, 48, 4, 46, 87, 2, 1, 98, 6, 37, 62, 76, 43, 94, 75, 74, 30, 47, 33, 99, 12, 93, 17, 53, 27, 67, 14, 49, 75, 38, 65, 65, 50, 36, 5, 11, 88, 60, 48, 94, 44, 57, 62, 28, 83, 78, 42, 87, 74, 29, 54, 47]\n",
      "Angka yang habis dibagi 3: [99, 72, 87, 21, 30, 87, 51, 78, 45, 60, 24, 63, 87, 12, 48, 87, 6, 75, 30, 33, 99, 12, 93, 27, 75, 36, 60, 48, 57, 78, 42, 87, 54]\n",
      "\n",
      "Panjang nomor random: 100\n",
      "Panjang angka yang habis dibagi 3: 33\n",
      "Selisih panjang kedua list: 67\n",
      "\n",
      "List selisih: [75, 70, 67, 65, 71, 58, 77, 53, 73, 67]\n",
      "Rata-rata aritmatika: 67.6\n"
     ]
    }
   ],
   "source": [
    "import random\n",
    "\n",
    "# inisialisasi list kosong untuk nomor random dan angka yang habis dibagi 3 serta hasil panjang selisih 2 list\n",
    "random_numbers = [] #untuk angka random\n",
    "divisible_by_3_list = [] #untuk hasil angka yang habis dibagi 3\n",
    "selisih_list = [] #untuk hasil selisih panjang 2 list di atas\n",
    "\n",
    "# loop untuk menghasilkan nomor random 10 kali dan menambahkannya ke dalam list\n",
    "for i in range(10):\n",
    "    # Membuat list 100 nomor random\n",
    "    number = [random.randint(1, 100) for _ in range(100)]\n",
    "    random_numbers.extend(number)\n",
    "    divisible_by_3 = [num for num in number if num % 3 == 0]\n",
    "    divisible_by_3_list.extend(divisible_by_3)\n",
    "    \n",
    "    # hitung panjang list nomor random dan angka yang habis dibagi 3\n",
    "    a = len(number)\n",
    "    b = len(divisible_by_3)\n",
    "    \n",
    "    # hitung selisih panjang kedua list dan menjadikan satu ke dalam list\n",
    "    c = a - b\n",
    "    selisih_list.append(c)\n",
    "        \n",
    "    # tampilkan list nomor random dan angka yang habis dibagi 3\n",
    "    print(\"\\033[1mPerulangan ke -\", i+1, \"\\033[0m\")\n",
    "    print(\"Nomor random:\", number)\n",
    "    print(\"Angka yang habis dibagi 3:\", divisible_by_3)\n",
    "    print()\n",
    "    \n",
    "    # tampilkan panjang kedua list dan selisihnya\n",
    "    print(\"Panjang nomor random:\", a)\n",
    "    print(\"Panjang angka yang habis dibagi 3:\", b)\n",
    "    print(\"Selisih panjang kedua list:\", c)\n",
    "    print()\n",
    "\n",
    "#menghasilkan list selisih panjang\n",
    "print(\"List selisih:\", selisih_list)\n",
    "# hitung rata-rata aritmatika dari list nomor random\n",
    "mean_random_numbers = sum(selisih_list) / len(selisih_list)\n",
    "print(\"Rata-rata aritmatika:\", mean_random_numbers)"
   ]
  },
  {
   "cell_type": "code",
   "execution_count": null,
   "id": "04f77746",
   "metadata": {},
   "outputs": [],
   "source": []
  }
 ],
 "metadata": {
  "kernelspec": {
   "display_name": "Python 3",
   "language": "python",
   "name": "python3"
  },
  "language_info": {
   "codemirror_mode": {
    "name": "ipython",
    "version": 3
   },
   "file_extension": ".py",
   "mimetype": "text/x-python",
   "name": "python",
   "nbconvert_exporter": "python",
   "pygments_lexer": "ipython3",
   "version": "3.8.8"
  }
 },
 "nbformat": 4,
 "nbformat_minor": 5
}
