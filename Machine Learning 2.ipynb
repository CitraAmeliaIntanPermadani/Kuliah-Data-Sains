{
 "cells": [
  {
   "cell_type": "markdown",
   "id": "97e17b8e",
   "metadata": {},
   "source": [
    "# Data Eksplorasi"
   ]
  },
  {
   "cell_type": "code",
   "execution_count": 1,
   "id": "c81692a8",
   "metadata": {},
   "outputs": [],
   "source": [
    "import pandas as pd\n",
    "import numpy as np"
   ]
  },
  {
   "cell_type": "code",
   "execution_count": 2,
   "id": "de4427cf",
   "metadata": {},
   "outputs": [
    {
     "data": {
      "text/html": [
       "<div>\n",
       "<style scoped>\n",
       "    .dataframe tbody tr th:only-of-type {\n",
       "        vertical-align: middle;\n",
       "    }\n",
       "\n",
       "    .dataframe tbody tr th {\n",
       "        vertical-align: top;\n",
       "    }\n",
       "\n",
       "    .dataframe thead th {\n",
       "        text-align: right;\n",
       "    }\n",
       "</style>\n",
       "<table border=\"1\" class=\"dataframe\">\n",
       "  <thead>\n",
       "    <tr style=\"text-align: right;\">\n",
       "      <th></th>\n",
       "      <th>feeling.nervous</th>\n",
       "      <th>panic</th>\n",
       "      <th>breathing.rapidly</th>\n",
       "      <th>sweating</th>\n",
       "      <th>trouble.in.concentration</th>\n",
       "      <th>having.trouble.in.sleeping</th>\n",
       "      <th>having.trouble.with.work</th>\n",
       "      <th>hopelessness</th>\n",
       "      <th>anger</th>\n",
       "      <th>over.react</th>\n",
       "      <th>...</th>\n",
       "      <th>weight.gain</th>\n",
       "      <th>material.possessions</th>\n",
       "      <th>introvert</th>\n",
       "      <th>popping.up.stressful.memory</th>\n",
       "      <th>having.nightmares</th>\n",
       "      <th>avoids.people.or.activities</th>\n",
       "      <th>feeling.negative</th>\n",
       "      <th>trouble.concentrating</th>\n",
       "      <th>blamming.yourself</th>\n",
       "      <th>Disorder</th>\n",
       "    </tr>\n",
       "  </thead>\n",
       "  <tbody>\n",
       "    <tr>\n",
       "      <th>0</th>\n",
       "      <td>yes</td>\n",
       "      <td>yes</td>\n",
       "      <td>yes</td>\n",
       "      <td>yes</td>\n",
       "      <td>yes</td>\n",
       "      <td>yes</td>\n",
       "      <td>no</td>\n",
       "      <td>no</td>\n",
       "      <td>no</td>\n",
       "      <td>no</td>\n",
       "      <td>...</td>\n",
       "      <td>no</td>\n",
       "      <td>no</td>\n",
       "      <td>no</td>\n",
       "      <td>no</td>\n",
       "      <td>no</td>\n",
       "      <td>no</td>\n",
       "      <td>no</td>\n",
       "      <td>no</td>\n",
       "      <td>no</td>\n",
       "      <td>Anxiety</td>\n",
       "    </tr>\n",
       "    <tr>\n",
       "      <th>1</th>\n",
       "      <td>no</td>\n",
       "      <td>no</td>\n",
       "      <td>no</td>\n",
       "      <td>no</td>\n",
       "      <td>no</td>\n",
       "      <td>no</td>\n",
       "      <td>yes</td>\n",
       "      <td>yes</td>\n",
       "      <td>yes</td>\n",
       "      <td>yes</td>\n",
       "      <td>...</td>\n",
       "      <td>no</td>\n",
       "      <td>no</td>\n",
       "      <td>no</td>\n",
       "      <td>no</td>\n",
       "      <td>no</td>\n",
       "      <td>no</td>\n",
       "      <td>no</td>\n",
       "      <td>no</td>\n",
       "      <td>no</td>\n",
       "      <td>Depression</td>\n",
       "    </tr>\n",
       "    <tr>\n",
       "      <th>2</th>\n",
       "      <td>no</td>\n",
       "      <td>no</td>\n",
       "      <td>no</td>\n",
       "      <td>no</td>\n",
       "      <td>no</td>\n",
       "      <td>no</td>\n",
       "      <td>no</td>\n",
       "      <td>no</td>\n",
       "      <td>no</td>\n",
       "      <td>no</td>\n",
       "      <td>...</td>\n",
       "      <td>yes</td>\n",
       "      <td>yes</td>\n",
       "      <td>yes</td>\n",
       "      <td>no</td>\n",
       "      <td>no</td>\n",
       "      <td>no</td>\n",
       "      <td>no</td>\n",
       "      <td>no</td>\n",
       "      <td>no</td>\n",
       "      <td>Loneliness</td>\n",
       "    </tr>\n",
       "    <tr>\n",
       "      <th>3</th>\n",
       "      <td>no</td>\n",
       "      <td>no</td>\n",
       "      <td>no</td>\n",
       "      <td>no</td>\n",
       "      <td>no</td>\n",
       "      <td>no</td>\n",
       "      <td>no</td>\n",
       "      <td>no</td>\n",
       "      <td>no</td>\n",
       "      <td>no</td>\n",
       "      <td>...</td>\n",
       "      <td>no</td>\n",
       "      <td>no</td>\n",
       "      <td>no</td>\n",
       "      <td>yes</td>\n",
       "      <td>yes</td>\n",
       "      <td>yes</td>\n",
       "      <td>yes</td>\n",
       "      <td>yes</td>\n",
       "      <td>yes</td>\n",
       "      <td>Stress</td>\n",
       "    </tr>\n",
       "    <tr>\n",
       "      <th>4</th>\n",
       "      <td>no</td>\n",
       "      <td>no</td>\n",
       "      <td>no</td>\n",
       "      <td>no</td>\n",
       "      <td>no</td>\n",
       "      <td>no</td>\n",
       "      <td>no</td>\n",
       "      <td>no</td>\n",
       "      <td>no</td>\n",
       "      <td>no</td>\n",
       "      <td>...</td>\n",
       "      <td>no</td>\n",
       "      <td>no</td>\n",
       "      <td>no</td>\n",
       "      <td>no</td>\n",
       "      <td>no</td>\n",
       "      <td>no</td>\n",
       "      <td>no</td>\n",
       "      <td>no</td>\n",
       "      <td>no</td>\n",
       "      <td>Normal</td>\n",
       "    </tr>\n",
       "  </tbody>\n",
       "</table>\n",
       "<p>5 rows × 25 columns</p>\n",
       "</div>"
      ],
      "text/plain": [
       "  feeling.nervous panic breathing.rapidly sweating trouble.in.concentration  \\\n",
       "0             yes   yes               yes      yes                      yes   \n",
       "1              no    no                no       no                       no   \n",
       "2              no    no                no       no                       no   \n",
       "3              no    no                no       no                       no   \n",
       "4              no    no                no       no                       no   \n",
       "\n",
       "  having.trouble.in.sleeping having.trouble.with.work hopelessness anger  \\\n",
       "0                        yes                       no           no    no   \n",
       "1                         no                      yes          yes   yes   \n",
       "2                         no                       no           no    no   \n",
       "3                         no                       no           no    no   \n",
       "4                         no                       no           no    no   \n",
       "\n",
       "  over.react  ... weight.gain material.possessions introvert  \\\n",
       "0         no  ...          no                   no        no   \n",
       "1        yes  ...          no                   no        no   \n",
       "2         no  ...         yes                  yes       yes   \n",
       "3         no  ...          no                   no        no   \n",
       "4         no  ...          no                   no        no   \n",
       "\n",
       "  popping.up.stressful.memory having.nightmares avoids.people.or.activities  \\\n",
       "0                          no                no                          no   \n",
       "1                          no                no                          no   \n",
       "2                          no                no                          no   \n",
       "3                         yes               yes                         yes   \n",
       "4                          no                no                          no   \n",
       "\n",
       "  feeling.negative trouble.concentrating blamming.yourself    Disorder  \n",
       "0               no                    no                no     Anxiety  \n",
       "1               no                    no                no  Depression  \n",
       "2               no                    no                no  Loneliness  \n",
       "3              yes                   yes               yes      Stress  \n",
       "4               no                    no                no      Normal  \n",
       "\n",
       "[5 rows x 25 columns]"
      ]
     },
     "execution_count": 2,
     "metadata": {},
     "output_type": "execute_result"
    }
   ],
   "source": [
    "men = pd.read_csv('mentalhealth.csv')\n",
    "men.head()"
   ]
  },
  {
   "cell_type": "code",
   "execution_count": 3,
   "id": "d97613a6",
   "metadata": {},
   "outputs": [
    {
     "data": {
      "text/plain": [
       "(40960, 25)"
      ]
     },
     "execution_count": 3,
     "metadata": {},
     "output_type": "execute_result"
    }
   ],
   "source": [
    "np.shape(men)"
   ]
  },
  {
   "cell_type": "code",
   "execution_count": 4,
   "id": "87792a9c",
   "metadata": {},
   "outputs": [
    {
     "data": {
      "text/html": [
       "<div>\n",
       "<style scoped>\n",
       "    .dataframe tbody tr th:only-of-type {\n",
       "        vertical-align: middle;\n",
       "    }\n",
       "\n",
       "    .dataframe tbody tr th {\n",
       "        vertical-align: top;\n",
       "    }\n",
       "\n",
       "    .dataframe thead th {\n",
       "        text-align: right;\n",
       "    }\n",
       "</style>\n",
       "<table border=\"1\" class=\"dataframe\">\n",
       "  <thead>\n",
       "    <tr style=\"text-align: right;\">\n",
       "      <th></th>\n",
       "      <th>feeling.nervous</th>\n",
       "      <th>panic</th>\n",
       "      <th>breathing.rapidly</th>\n",
       "      <th>sweating</th>\n",
       "      <th>trouble.in.concentration</th>\n",
       "      <th>having.trouble.in.sleeping</th>\n",
       "      <th>having.trouble.with.work</th>\n",
       "      <th>hopelessness</th>\n",
       "      <th>anger</th>\n",
       "      <th>over.react</th>\n",
       "      <th>...</th>\n",
       "      <th>weight.gain</th>\n",
       "      <th>material.possessions</th>\n",
       "      <th>introvert</th>\n",
       "      <th>popping.up.stressful.memory</th>\n",
       "      <th>having.nightmares</th>\n",
       "      <th>avoids.people.or.activities</th>\n",
       "      <th>feeling.negative</th>\n",
       "      <th>trouble.concentrating</th>\n",
       "      <th>blamming.yourself</th>\n",
       "      <th>Disorder</th>\n",
       "    </tr>\n",
       "  </thead>\n",
       "  <tbody>\n",
       "    <tr>\n",
       "      <th>count</th>\n",
       "      <td>40960</td>\n",
       "      <td>40960</td>\n",
       "      <td>40960</td>\n",
       "      <td>40960</td>\n",
       "      <td>40960</td>\n",
       "      <td>40960</td>\n",
       "      <td>40960</td>\n",
       "      <td>40960</td>\n",
       "      <td>40960</td>\n",
       "      <td>40960</td>\n",
       "      <td>...</td>\n",
       "      <td>40960</td>\n",
       "      <td>40960</td>\n",
       "      <td>40960</td>\n",
       "      <td>40960</td>\n",
       "      <td>40960</td>\n",
       "      <td>40960</td>\n",
       "      <td>40960</td>\n",
       "      <td>40960</td>\n",
       "      <td>40960</td>\n",
       "      <td>40960</td>\n",
       "    </tr>\n",
       "    <tr>\n",
       "      <th>unique</th>\n",
       "      <td>2</td>\n",
       "      <td>2</td>\n",
       "      <td>2</td>\n",
       "      <td>2</td>\n",
       "      <td>2</td>\n",
       "      <td>2</td>\n",
       "      <td>2</td>\n",
       "      <td>2</td>\n",
       "      <td>2</td>\n",
       "      <td>2</td>\n",
       "      <td>...</td>\n",
       "      <td>2</td>\n",
       "      <td>2</td>\n",
       "      <td>2</td>\n",
       "      <td>2</td>\n",
       "      <td>2</td>\n",
       "      <td>2</td>\n",
       "      <td>2</td>\n",
       "      <td>2</td>\n",
       "      <td>2</td>\n",
       "      <td>5</td>\n",
       "    </tr>\n",
       "    <tr>\n",
       "      <th>top</th>\n",
       "      <td>no</td>\n",
       "      <td>no</td>\n",
       "      <td>no</td>\n",
       "      <td>no</td>\n",
       "      <td>no</td>\n",
       "      <td>no</td>\n",
       "      <td>no</td>\n",
       "      <td>no</td>\n",
       "      <td>no</td>\n",
       "      <td>no</td>\n",
       "      <td>...</td>\n",
       "      <td>no</td>\n",
       "      <td>no</td>\n",
       "      <td>no</td>\n",
       "      <td>no</td>\n",
       "      <td>no</td>\n",
       "      <td>no</td>\n",
       "      <td>no</td>\n",
       "      <td>no</td>\n",
       "      <td>no</td>\n",
       "      <td>Stress</td>\n",
       "    </tr>\n",
       "    <tr>\n",
       "      <th>freq</th>\n",
       "      <td>32768</td>\n",
       "      <td>32768</td>\n",
       "      <td>32768</td>\n",
       "      <td>32768</td>\n",
       "      <td>32768</td>\n",
       "      <td>32768</td>\n",
       "      <td>32768</td>\n",
       "      <td>32768</td>\n",
       "      <td>32768</td>\n",
       "      <td>32768</td>\n",
       "      <td>...</td>\n",
       "      <td>32768</td>\n",
       "      <td>32768</td>\n",
       "      <td>32768</td>\n",
       "      <td>32768</td>\n",
       "      <td>32768</td>\n",
       "      <td>32768</td>\n",
       "      <td>32768</td>\n",
       "      <td>32768</td>\n",
       "      <td>32768</td>\n",
       "      <td>8192</td>\n",
       "    </tr>\n",
       "  </tbody>\n",
       "</table>\n",
       "<p>4 rows × 25 columns</p>\n",
       "</div>"
      ],
      "text/plain": [
       "       feeling.nervous  panic breathing.rapidly sweating  \\\n",
       "count            40960  40960             40960    40960   \n",
       "unique               2      2                 2        2   \n",
       "top                 no     no                no       no   \n",
       "freq             32768  32768             32768    32768   \n",
       "\n",
       "       trouble.in.concentration having.trouble.in.sleeping  \\\n",
       "count                     40960                      40960   \n",
       "unique                        2                          2   \n",
       "top                          no                         no   \n",
       "freq                      32768                      32768   \n",
       "\n",
       "       having.trouble.with.work hopelessness  anger over.react  ...  \\\n",
       "count                     40960        40960  40960      40960  ...   \n",
       "unique                        2            2      2          2  ...   \n",
       "top                          no           no     no         no  ...   \n",
       "freq                      32768        32768  32768      32768  ...   \n",
       "\n",
       "       weight.gain material.possessions introvert popping.up.stressful.memory  \\\n",
       "count        40960                40960     40960                       40960   \n",
       "unique           2                    2         2                           2   \n",
       "top             no                   no        no                          no   \n",
       "freq         32768                32768     32768                       32768   \n",
       "\n",
       "       having.nightmares avoids.people.or.activities feeling.negative  \\\n",
       "count              40960                       40960            40960   \n",
       "unique                 2                           2                2   \n",
       "top                   no                          no               no   \n",
       "freq               32768                       32768            32768   \n",
       "\n",
       "       trouble.concentrating blamming.yourself Disorder  \n",
       "count                  40960             40960    40960  \n",
       "unique                     2                 2        5  \n",
       "top                       no                no   Stress  \n",
       "freq                   32768             32768     8192  \n",
       "\n",
       "[4 rows x 25 columns]"
      ]
     },
     "execution_count": 4,
     "metadata": {},
     "output_type": "execute_result"
    }
   ],
   "source": [
    "men.describe()"
   ]
  },
  {
   "cell_type": "code",
   "execution_count": 6,
   "id": "1192fa7f",
   "metadata": {},
   "outputs": [
    {
     "data": {
      "text/plain": [
       "feeling.nervous                object\n",
       "panic                          object\n",
       "breathing.rapidly              object\n",
       "sweating                       object\n",
       "trouble.in.concentration       object\n",
       "having.trouble.in.sleeping     object\n",
       "having.trouble.with.work       object\n",
       "hopelessness                   object\n",
       "anger                          object\n",
       "over.react                     object\n",
       "change.in.eating               object\n",
       "suicidal.thought               object\n",
       "feeling.tired                  object\n",
       "close.friend                   object\n",
       "social.media.addiction         object\n",
       "weight.gain                    object\n",
       "material.possessions           object\n",
       "introvert                      object\n",
       "popping.up.stressful.memory    object\n",
       "having.nightmares              object\n",
       "avoids.people.or.activities    object\n",
       "feeling.negative               object\n",
       "trouble.concentrating          object\n",
       "blamming.yourself              object\n",
       "Disorder                       object\n",
       "dtype: object"
      ]
     },
     "execution_count": 6,
     "metadata": {},
     "output_type": "execute_result"
    }
   ],
   "source": [
    "men.dtypes"
   ]
  },
  {
   "cell_type": "code",
   "execution_count": 9,
   "id": "89019620",
   "metadata": {},
   "outputs": [
    {
     "data": {
      "text/plain": [
       "feeling.nervous                category\n",
       "panic                          category\n",
       "breathing.rapidly                object\n",
       "sweating                         object\n",
       "trouble.in.concentration         object\n",
       "having.trouble.in.sleeping       object\n",
       "having.trouble.with.work         object\n",
       "hopelessness                     object\n",
       "anger                            object\n",
       "over.react                       object\n",
       "change.in.eating                 object\n",
       "suicidal.thought                 object\n",
       "feeling.tired                    object\n",
       "close.friend                     object\n",
       "social.media.addiction           object\n",
       "weight.gain                      object\n",
       "material.possessions             object\n",
       "introvert                        object\n",
       "popping.up.stressful.memory      object\n",
       "having.nightmares                object\n",
       "avoids.people.or.activities      object\n",
       "feeling.negative                 object\n",
       "trouble.concentrating            object\n",
       "blamming.yourself                object\n",
       "Disorder                         object\n",
       "dtype: object"
      ]
     },
     "execution_count": 9,
     "metadata": {},
     "output_type": "execute_result"
    }
   ],
   "source": [
    "men[[\"feeling.nervous\", \"panic\"]] = men[[\"feeling.nervous\", \"panic\"]].astype('category')\n",
    "men.dtypes"
   ]
  },
  {
   "cell_type": "code",
   "execution_count": 10,
   "id": "e6ba1fae",
   "metadata": {},
   "outputs": [
    {
     "name": "stdout",
     "output_type": "stream",
     "text": [
      "feeling.nervous                category\n",
      "panic                          category\n",
      "breathing.rapidly              category\n",
      "sweating                       category\n",
      "trouble.in.concentration       category\n",
      "having.trouble.in.sleeping     category\n",
      "having.trouble.with.work       category\n",
      "hopelessness                   category\n",
      "anger                          category\n",
      "over.react                     category\n",
      "change.in.eating               category\n",
      "suicidal.thought               category\n",
      "feeling.tired                  category\n",
      "close.friend                   category\n",
      "social.media.addiction         category\n",
      "weight.gain                    category\n",
      "material.possessions           category\n",
      "introvert                      category\n",
      "popping.up.stressful.memory    category\n",
      "having.nightmares              category\n",
      "avoids.people.or.activities    category\n",
      "feeling.negative               category\n",
      "trouble.concentrating          category\n",
      "blamming.yourself              category\n",
      "Disorder                         object\n",
      "dtype: object\n"
     ]
    }
   ],
   "source": [
    "men.iloc[:, :-1] = men.iloc[:, :-1].astype('category')\n",
    "men_dtypes = men.dtypes\n",
    "print(men_dtypes)"
   ]
  },
  {
   "cell_type": "code",
   "execution_count": 11,
   "id": "b265d9ca",
   "metadata": {},
   "outputs": [
    {
     "data": {
      "text/plain": [
       "feeling.nervous                False\n",
       "panic                          False\n",
       "breathing.rapidly              False\n",
       "sweating                       False\n",
       "trouble.in.concentration       False\n",
       "having.trouble.in.sleeping     False\n",
       "having.trouble.with.work       False\n",
       "hopelessness                   False\n",
       "anger                          False\n",
       "over.react                     False\n",
       "change.in.eating               False\n",
       "suicidal.thought               False\n",
       "feeling.tired                  False\n",
       "close.friend                   False\n",
       "social.media.addiction         False\n",
       "weight.gain                    False\n",
       "material.possessions           False\n",
       "introvert                      False\n",
       "popping.up.stressful.memory    False\n",
       "having.nightmares              False\n",
       "avoids.people.or.activities    False\n",
       "feeling.negative               False\n",
       "trouble.concentrating          False\n",
       "blamming.yourself              False\n",
       "Disorder                       False\n",
       "dtype: bool"
      ]
     },
     "execution_count": 11,
     "metadata": {},
     "output_type": "execute_result"
    }
   ],
   "source": [
    "#memeriksa missing value setiap variabel\n",
    "men.isnull().any()"
   ]
  },
  {
   "cell_type": "code",
   "execution_count": 14,
   "id": "ff8035ac",
   "metadata": {},
   "outputs": [
    {
     "name": "stdout",
     "output_type": "stream",
     "text": [
      "feeling.nervous                0\n",
      "panic                          0\n",
      "breathing.rapidly              0\n",
      "sweating                       0\n",
      "trouble.in.concentration       0\n",
      "having.trouble.in.sleeping     0\n",
      "having.trouble.with.work       0\n",
      "hopelessness                   0\n",
      "anger                          0\n",
      "over.react                     0\n",
      "change.in.eating               0\n",
      "suicidal.thought               0\n",
      "feeling.tired                  0\n",
      "close.friend                   0\n",
      "social.media.addiction         0\n",
      "weight.gain                    0\n",
      "material.possessions           0\n",
      "introvert                      0\n",
      "popping.up.stressful.memory    0\n",
      "having.nightmares              0\n",
      "avoids.people.or.activities    0\n",
      "feeling.negative               0\n",
      "trouble.concentrating          0\n",
      "blamming.yourself              0\n",
      "Disorder                       0\n",
      "dtype: int64\n"
     ]
    }
   ],
   "source": [
    "print(men.isnull().sum())"
   ]
  },
  {
   "cell_type": "code",
   "execution_count": 18,
   "id": "98322200",
   "metadata": {},
   "outputs": [
    {
     "ename": "ValueError",
     "evalue": "min() arg is an empty sequence",
     "output_type": "error",
     "traceback": [
      "\u001b[1;31m---------------------------------------------------------------------------\u001b[0m",
      "\u001b[1;31mValueError\u001b[0m                                Traceback (most recent call last)",
      "\u001b[1;32m<ipython-input-18-6994f5261a1a>\u001b[0m in \u001b[0;36m<module>\u001b[1;34m\u001b[0m\n\u001b[0;32m      2\u001b[0m \u001b[1;32mimport\u001b[0m \u001b[0mmatplotlib\u001b[0m\u001b[1;33m.\u001b[0m\u001b[0mpyplot\u001b[0m \u001b[1;32mas\u001b[0m \u001b[0mplt\u001b[0m\u001b[1;33m\u001b[0m\u001b[1;33m\u001b[0m\u001b[0m\n\u001b[0;32m      3\u001b[0m \u001b[1;33m\u001b[0m\u001b[0m\n\u001b[1;32m----> 4\u001b[1;33m \u001b[0msns\u001b[0m\u001b[1;33m.\u001b[0m\u001b[0mcountplot\u001b[0m\u001b[1;33m(\u001b[0m\u001b[0mdata\u001b[0m\u001b[1;33m=\u001b[0m\u001b[0mmen\u001b[0m\u001b[1;33m.\u001b[0m\u001b[0miloc\u001b[0m\u001b[1;33m[\u001b[0m\u001b[1;33m:\u001b[0m\u001b[1;33m,\u001b[0m \u001b[1;33m:\u001b[0m\u001b[1;33m-\u001b[0m\u001b[1;36m1\u001b[0m\u001b[1;33m]\u001b[0m\u001b[1;33m)\u001b[0m\u001b[1;33m\u001b[0m\u001b[1;33m\u001b[0m\u001b[0m\n\u001b[0m\u001b[0;32m      5\u001b[0m \u001b[0mplt\u001b[0m\u001b[1;33m.\u001b[0m\u001b[0mshow\u001b[0m\u001b[1;33m(\u001b[0m\u001b[1;33m)\u001b[0m\u001b[1;33m\u001b[0m\u001b[1;33m\u001b[0m\u001b[0m\n",
      "\u001b[1;32m~\\anaconda3\\lib\\site-packages\\seaborn\\_decorators.py\u001b[0m in \u001b[0;36minner_f\u001b[1;34m(*args, **kwargs)\u001b[0m\n\u001b[0;32m     44\u001b[0m             )\n\u001b[0;32m     45\u001b[0m         \u001b[0mkwargs\u001b[0m\u001b[1;33m.\u001b[0m\u001b[0mupdate\u001b[0m\u001b[1;33m(\u001b[0m\u001b[1;33m{\u001b[0m\u001b[0mk\u001b[0m\u001b[1;33m:\u001b[0m \u001b[0marg\u001b[0m \u001b[1;32mfor\u001b[0m \u001b[0mk\u001b[0m\u001b[1;33m,\u001b[0m \u001b[0marg\u001b[0m \u001b[1;32min\u001b[0m \u001b[0mzip\u001b[0m\u001b[1;33m(\u001b[0m\u001b[0msig\u001b[0m\u001b[1;33m.\u001b[0m\u001b[0mparameters\u001b[0m\u001b[1;33m,\u001b[0m \u001b[0margs\u001b[0m\u001b[1;33m)\u001b[0m\u001b[1;33m}\u001b[0m\u001b[1;33m)\u001b[0m\u001b[1;33m\u001b[0m\u001b[1;33m\u001b[0m\u001b[0m\n\u001b[1;32m---> 46\u001b[1;33m         \u001b[1;32mreturn\u001b[0m \u001b[0mf\u001b[0m\u001b[1;33m(\u001b[0m\u001b[1;33m**\u001b[0m\u001b[0mkwargs\u001b[0m\u001b[1;33m)\u001b[0m\u001b[1;33m\u001b[0m\u001b[1;33m\u001b[0m\u001b[0m\n\u001b[0m\u001b[0;32m     47\u001b[0m     \u001b[1;32mreturn\u001b[0m \u001b[0minner_f\u001b[0m\u001b[1;33m\u001b[0m\u001b[1;33m\u001b[0m\u001b[0m\n\u001b[0;32m     48\u001b[0m \u001b[1;33m\u001b[0m\u001b[0m\n",
      "\u001b[1;32m~\\anaconda3\\lib\\site-packages\\seaborn\\categorical.py\u001b[0m in \u001b[0;36mcountplot\u001b[1;34m(x, y, hue, data, order, hue_order, orient, color, palette, saturation, dodge, ax, **kwargs)\u001b[0m\n\u001b[0;32m   3593\u001b[0m         \u001b[1;32mraise\u001b[0m \u001b[0mValueError\u001b[0m\u001b[1;33m(\u001b[0m\u001b[1;34m\"Cannot pass values for both `x` and `y`\"\u001b[0m\u001b[1;33m)\u001b[0m\u001b[1;33m\u001b[0m\u001b[1;33m\u001b[0m\u001b[0m\n\u001b[0;32m   3594\u001b[0m \u001b[1;33m\u001b[0m\u001b[0m\n\u001b[1;32m-> 3595\u001b[1;33m     plotter = _CountPlotter(\n\u001b[0m\u001b[0;32m   3596\u001b[0m         \u001b[0mx\u001b[0m\u001b[1;33m,\u001b[0m \u001b[0my\u001b[0m\u001b[1;33m,\u001b[0m \u001b[0mhue\u001b[0m\u001b[1;33m,\u001b[0m \u001b[0mdata\u001b[0m\u001b[1;33m,\u001b[0m \u001b[0morder\u001b[0m\u001b[1;33m,\u001b[0m \u001b[0mhue_order\u001b[0m\u001b[1;33m,\u001b[0m\u001b[1;33m\u001b[0m\u001b[1;33m\u001b[0m\u001b[0m\n\u001b[0;32m   3597\u001b[0m         \u001b[0mestimator\u001b[0m\u001b[1;33m,\u001b[0m \u001b[0mci\u001b[0m\u001b[1;33m,\u001b[0m \u001b[0mn_boot\u001b[0m\u001b[1;33m,\u001b[0m \u001b[0munits\u001b[0m\u001b[1;33m,\u001b[0m \u001b[0mseed\u001b[0m\u001b[1;33m,\u001b[0m\u001b[1;33m\u001b[0m\u001b[1;33m\u001b[0m\u001b[0m\n",
      "\u001b[1;32m~\\anaconda3\\lib\\site-packages\\seaborn\\categorical.py\u001b[0m in \u001b[0;36m__init__\u001b[1;34m(self, x, y, hue, data, order, hue_order, estimator, ci, n_boot, units, seed, orient, color, palette, saturation, errcolor, errwidth, capsize, dodge)\u001b[0m\n\u001b[0;32m   1584\u001b[0m         self.establish_variables(x, y, hue, data, orient,\n\u001b[0;32m   1585\u001b[0m                                  order, hue_order, units)\n\u001b[1;32m-> 1586\u001b[1;33m         \u001b[0mself\u001b[0m\u001b[1;33m.\u001b[0m\u001b[0mestablish_colors\u001b[0m\u001b[1;33m(\u001b[0m\u001b[0mcolor\u001b[0m\u001b[1;33m,\u001b[0m \u001b[0mpalette\u001b[0m\u001b[1;33m,\u001b[0m \u001b[0msaturation\u001b[0m\u001b[1;33m)\u001b[0m\u001b[1;33m\u001b[0m\u001b[1;33m\u001b[0m\u001b[0m\n\u001b[0m\u001b[0;32m   1587\u001b[0m         \u001b[0mself\u001b[0m\u001b[1;33m.\u001b[0m\u001b[0mestimate_statistic\u001b[0m\u001b[1;33m(\u001b[0m\u001b[0mestimator\u001b[0m\u001b[1;33m,\u001b[0m \u001b[0mci\u001b[0m\u001b[1;33m,\u001b[0m \u001b[0mn_boot\u001b[0m\u001b[1;33m,\u001b[0m \u001b[0mseed\u001b[0m\u001b[1;33m)\u001b[0m\u001b[1;33m\u001b[0m\u001b[1;33m\u001b[0m\u001b[0m\n\u001b[0;32m   1588\u001b[0m \u001b[1;33m\u001b[0m\u001b[0m\n",
      "\u001b[1;32m~\\anaconda3\\lib\\site-packages\\seaborn\\categorical.py\u001b[0m in \u001b[0;36mestablish_colors\u001b[1;34m(self, color, palette, saturation)\u001b[0m\n\u001b[0;32m    317\u001b[0m         \u001b[1;31m# Determine the gray color to use for the lines framing the plot\u001b[0m\u001b[1;33m\u001b[0m\u001b[1;33m\u001b[0m\u001b[1;33m\u001b[0m\u001b[0m\n\u001b[0;32m    318\u001b[0m         \u001b[0mlight_vals\u001b[0m \u001b[1;33m=\u001b[0m \u001b[1;33m[\u001b[0m\u001b[0mcolorsys\u001b[0m\u001b[1;33m.\u001b[0m\u001b[0mrgb_to_hls\u001b[0m\u001b[1;33m(\u001b[0m\u001b[1;33m*\u001b[0m\u001b[0mc\u001b[0m\u001b[1;33m)\u001b[0m\u001b[1;33m[\u001b[0m\u001b[1;36m1\u001b[0m\u001b[1;33m]\u001b[0m \u001b[1;32mfor\u001b[0m \u001b[0mc\u001b[0m \u001b[1;32min\u001b[0m \u001b[0mrgb_colors\u001b[0m\u001b[1;33m]\u001b[0m\u001b[1;33m\u001b[0m\u001b[1;33m\u001b[0m\u001b[0m\n\u001b[1;32m--> 319\u001b[1;33m         \u001b[0mlum\u001b[0m \u001b[1;33m=\u001b[0m \u001b[0mmin\u001b[0m\u001b[1;33m(\u001b[0m\u001b[0mlight_vals\u001b[0m\u001b[1;33m)\u001b[0m \u001b[1;33m*\u001b[0m \u001b[1;36m.6\u001b[0m\u001b[1;33m\u001b[0m\u001b[1;33m\u001b[0m\u001b[0m\n\u001b[0m\u001b[0;32m    320\u001b[0m         \u001b[0mgray\u001b[0m \u001b[1;33m=\u001b[0m \u001b[0mmpl\u001b[0m\u001b[1;33m.\u001b[0m\u001b[0mcolors\u001b[0m\u001b[1;33m.\u001b[0m\u001b[0mrgb2hex\u001b[0m\u001b[1;33m(\u001b[0m\u001b[1;33m(\u001b[0m\u001b[0mlum\u001b[0m\u001b[1;33m,\u001b[0m \u001b[0mlum\u001b[0m\u001b[1;33m,\u001b[0m \u001b[0mlum\u001b[0m\u001b[1;33m)\u001b[0m\u001b[1;33m)\u001b[0m\u001b[1;33m\u001b[0m\u001b[1;33m\u001b[0m\u001b[0m\n\u001b[0;32m    321\u001b[0m \u001b[1;33m\u001b[0m\u001b[0m\n",
      "\u001b[1;31mValueError\u001b[0m: min() arg is an empty sequence"
     ]
    }
   ],
   "source": [
    "import seaborn as sns\n",
    "import matplotlib.pyplot as plt\n",
    "\n",
    "sns.countplot(data=men.iloc[:, :-1])\n",
    "plt.show()"
   ]
  },
  {
   "cell_type": "code",
   "execution_count": 24,
   "id": "df7838f5",
   "metadata": {},
   "outputs": [
    {
     "name": "stdout",
     "output_type": "stream",
     "text": [
      "Collecting elm\n",
      "  Downloading elm-0.1.3-py2.py3-none-any.whl (19 kB)\n",
      "Collecting numpy==1.15.4 (from elm)\n",
      "  Downloading numpy-1.15.4.zip (4.5 MB)\n",
      "     ---------------------------------------- 4.5/4.5 MB 150.3 kB/s eta 0:00:00\n",
      "  Preparing metadata (setup.py): started\n",
      "  Preparing metadata (setup.py): finished with status 'done'\n",
      "Collecting deap==1.2.2 (from elm)\n",
      "  Downloading deap-1.2.2.tar.gz (936 kB)\n",
      "     ------------------------------------ 936.6/936.6 kB 201.6 kB/s eta 0:00:00\n",
      "  Preparing metadata (setup.py): started\n",
      "  Preparing metadata (setup.py): finished with status 'error'\n",
      "Note: you may need to restart the kernel to use updated packages.\n"
     ]
    },
    {
     "name": "stderr",
     "output_type": "stream",
     "text": [
      "  error: subprocess-exited-with-error\n",
      "  \n",
      "  python setup.py egg_info did not run successfully.\n",
      "  exit code: 1\n",
      "  \n",
      "  [1 lines of output]\n",
      "  error in deap setup command: use_2to3 is invalid.\n",
      "  [end of output]\n",
      "  \n",
      "  note: This error originates from a subprocess, and is likely not a problem with pip.\n",
      "error: metadata-generation-failed\n",
      "\n",
      "Encountered error while generating package metadata.\n",
      "\n",
      "See above for output.\n",
      "\n",
      "note: This is an issue with the package mentioned above, not pip.\n",
      "hint: See above for details.\n"
     ]
    }
   ],
   "source": [
    "pip install elm"
   ]
  },
  {
   "cell_type": "code",
   "execution_count": 28,
   "id": "6f5dad2c",
   "metadata": {},
   "outputs": [
    {
     "name": "stdout",
     "output_type": "stream",
     "text": [
      "Collecting scikit-elm\n",
      "  Downloading scikit_elm-0.21a0-py3-none-any.whl (30 kB)\n",
      "Requirement already satisfied: numpy in c:\\users\\lenovo\\anaconda3\\lib\\site-packages (from scikit-elm) (1.20.1)\n",
      "Requirement already satisfied: scipy in c:\\users\\lenovo\\anaconda3\\lib\\site-packages (from scikit-elm) (1.6.2)\n",
      "Requirement already satisfied: scikit-learn in c:\\users\\lenovo\\anaconda3\\lib\\site-packages (from scikit-elm) (0.24.1)\n",
      "Requirement already satisfied: joblib>=0.11 in c:\\users\\lenovo\\anaconda3\\lib\\site-packages (from scikit-learn->scikit-elm) (1.0.1)\n",
      "Requirement already satisfied: threadpoolctl>=2.0.0 in c:\\users\\lenovo\\anaconda3\\lib\\site-packages (from scikit-learn->scikit-elm) (2.1.0)\n",
      "Installing collected packages: scikit-elm\n",
      "Successfully installed scikit-elm-0.21a0\n",
      "Note: you may need to restart the kernel to use updated packages.\n"
     ]
    }
   ],
   "source": [
    "pip install scikit-elm"
   ]
  },
  {
   "cell_type": "code",
   "execution_count": 29,
   "id": "28850d04",
   "metadata": {},
   "outputs": [
    {
     "ename": "ModuleNotFoundError",
     "evalue": "No module named 'sklearn_extensions'",
     "output_type": "error",
     "traceback": [
      "\u001b[1;31m---------------------------------------------------------------------------\u001b[0m",
      "\u001b[1;31mModuleNotFoundError\u001b[0m                       Traceback (most recent call last)",
      "\u001b[1;32m<ipython-input-29-effd6ac1a1c1>\u001b[0m in \u001b[0;36m<module>\u001b[1;34m\u001b[0m\n\u001b[0;32m      3\u001b[0m \u001b[1;32mfrom\u001b[0m \u001b[0msklearn\u001b[0m\u001b[1;33m.\u001b[0m\u001b[0mmodel_selection\u001b[0m \u001b[1;32mimport\u001b[0m \u001b[0mStratifiedKFold\u001b[0m\u001b[1;33m\u001b[0m\u001b[1;33m\u001b[0m\u001b[0m\n\u001b[0;32m      4\u001b[0m \u001b[1;32mfrom\u001b[0m \u001b[0msklearn\u001b[0m\u001b[1;33m.\u001b[0m\u001b[0mmetrics\u001b[0m \u001b[1;32mimport\u001b[0m \u001b[0maccuracy_score\u001b[0m\u001b[1;33m\u001b[0m\u001b[1;33m\u001b[0m\u001b[0m\n\u001b[1;32m----> 5\u001b[1;33m \u001b[1;32mfrom\u001b[0m \u001b[0msklearn_extensions\u001b[0m\u001b[1;33m.\u001b[0m\u001b[0mextreme_learning_machines\u001b[0m\u001b[1;33m.\u001b[0m\u001b[0melm\u001b[0m \u001b[1;32mimport\u001b[0m \u001b[0mELMClassifier\u001b[0m\u001b[1;33m\u001b[0m\u001b[1;33m\u001b[0m\u001b[0m\n\u001b[0m\u001b[0;32m      6\u001b[0m \u001b[1;33m\u001b[0m\u001b[0m\n\u001b[0;32m      7\u001b[0m \u001b[1;31m# Memisahkan fitur (X) dan target (y)\u001b[0m\u001b[1;33m\u001b[0m\u001b[1;33m\u001b[0m\u001b[1;33m\u001b[0m\u001b[0m\n",
      "\u001b[1;31mModuleNotFoundError\u001b[0m: No module named 'sklearn_extensions'"
     ]
    }
   ],
   "source": [
    "import pandas as pd\n",
    "from sklearn.preprocessing import LabelEncoder\n",
    "from sklearn.model_selection import StratifiedKFold\n",
    "from sklearn.metrics import accuracy_score\n",
    "from sklearn_extensions.extreme_learning_machines.elm import ELMClassifier\n",
    "\n",
    "# Memisahkan fitur (X) dan target (y)\n",
    "X = men.iloc[:, :-1]  # Mengambil semua kolom kecuali kolom target\n",
    "y = men.iloc[:, -1]   # Mengambil kolom target\n",
    "\n",
    "# Mengubah tipe data kategorik menjadi numerik menggunakan LabelEncoder\n",
    "label_encoder = LabelEncoder()\n",
    "y = label_encoder.fit_transform(y)\n",
    "\n",
    "# Inisialisasi ELMClassifier\n",
    "elm = ELMClassifier()\n",
    "\n",
    "# Inisialisasi k-fold cross-validation\n",
    "k = 5  # Jumlah lipatan (folds)\n",
    "kf = StratifiedKFold(n_splits=k, shuffle=True, random_state=42)\n",
    "\n",
    "# Melakukan k-fold cross-validation\n",
    "accuracies = []\n",
    "for train_index, test_index in kf.split(X, y):\n",
    "    X_train, X_test = X.iloc[train_index], X.iloc[test_index]\n",
    "    y_train, y_test = y[train_index], y[test_index]\n",
    "\n",
    "    # Melatih model ELM pada set pelatihan\n",
    "    elm.fit(X_train, y_train)\n",
    "\n",
    "    # Memprediksi kelas pada set pengujian\n",
    "    y_pred = elm.predict(X_test)\n",
    "\n",
    "    # Menghitung akurasi\n",
    "    accuracy = accuracy_score(y_test, y_pred)\n",
    "    accuracies.append(accuracy)\n",
    "\n",
    "# Menampilkan akurasi rata-rata dari k-fold cross-validation\n",
    "average_accuracy = sum(accuracies) / len(accuracies)\n",
    "print(\"Average Accuracy:\", average_accuracy)"
   ]
  },
  {
   "cell_type": "code",
   "execution_count": 26,
   "id": "c2c22330",
   "metadata": {},
   "outputs": [
    {
     "ename": "TypeError",
     "evalue": "can't multiply sequence by non-int of type 'float'",
     "output_type": "error",
     "traceback": [
      "\u001b[1;31m---------------------------------------------------------------------------\u001b[0m",
      "\u001b[1;31mTypeError\u001b[0m                                 Traceback (most recent call last)",
      "\u001b[1;32m<ipython-input-26-5d716af132e4>\u001b[0m in \u001b[0;36m<module>\u001b[1;34m\u001b[0m\n\u001b[0;32m     53\u001b[0m \u001b[0mhidden_units\u001b[0m \u001b[1;33m=\u001b[0m \u001b[1;36m10\u001b[0m  \u001b[1;31m# Jumlah unit tersembunyi dalam ELM\u001b[0m\u001b[1;33m\u001b[0m\u001b[1;33m\u001b[0m\u001b[0m\n\u001b[0;32m     54\u001b[0m \u001b[1;33m\u001b[0m\u001b[0m\n\u001b[1;32m---> 55\u001b[1;33m \u001b[0maccuracy\u001b[0m \u001b[1;33m=\u001b[0m \u001b[0mk_fold_cross_val\u001b[0m\u001b[1;33m(\u001b[0m\u001b[0mX\u001b[0m\u001b[1;33m,\u001b[0m \u001b[0my\u001b[0m\u001b[1;33m,\u001b[0m \u001b[0mn_splits\u001b[0m\u001b[1;33m,\u001b[0m \u001b[0mhidden_units\u001b[0m\u001b[1;33m)\u001b[0m\u001b[1;33m\u001b[0m\u001b[1;33m\u001b[0m\u001b[0m\n\u001b[0m\u001b[0;32m     56\u001b[0m \u001b[0mprint\u001b[0m\u001b[1;33m(\u001b[0m\u001b[1;34mf\"Average accuracy: {accuracy}\"\u001b[0m\u001b[1;33m)\u001b[0m\u001b[1;33m\u001b[0m\u001b[1;33m\u001b[0m\u001b[0m\n",
      "\u001b[1;32m<ipython-input-26-5d716af132e4>\u001b[0m in \u001b[0;36mk_fold_cross_val\u001b[1;34m(X, y, n_splits, hidden_units)\u001b[0m\n\u001b[0;32m     38\u001b[0m \u001b[1;33m\u001b[0m\u001b[0m\n\u001b[0;32m     39\u001b[0m         \u001b[0melm\u001b[0m \u001b[1;33m=\u001b[0m \u001b[0mELMClassifier\u001b[0m\u001b[1;33m(\u001b[0m\u001b[0mhidden_units\u001b[0m\u001b[1;33m=\u001b[0m\u001b[0mhidden_units\u001b[0m\u001b[1;33m)\u001b[0m\u001b[1;33m\u001b[0m\u001b[1;33m\u001b[0m\u001b[0m\n\u001b[1;32m---> 40\u001b[1;33m         \u001b[0melm\u001b[0m\u001b[1;33m.\u001b[0m\u001b[0mfit\u001b[0m\u001b[1;33m(\u001b[0m\u001b[0mX_train\u001b[0m\u001b[1;33m,\u001b[0m \u001b[0my_train\u001b[0m\u001b[1;33m)\u001b[0m\u001b[1;33m\u001b[0m\u001b[1;33m\u001b[0m\u001b[0m\n\u001b[0m\u001b[0;32m     41\u001b[0m         \u001b[0my_pred\u001b[0m \u001b[1;33m=\u001b[0m \u001b[0melm\u001b[0m\u001b[1;33m.\u001b[0m\u001b[0mpredict\u001b[0m\u001b[1;33m(\u001b[0m\u001b[0mX_test\u001b[0m\u001b[1;33m)\u001b[0m\u001b[1;33m\u001b[0m\u001b[1;33m\u001b[0m\u001b[0m\n\u001b[0;32m     42\u001b[0m \u001b[1;33m\u001b[0m\u001b[0m\n",
      "\u001b[1;32m<ipython-input-26-5d716af132e4>\u001b[0m in \u001b[0;36mfit\u001b[1;34m(self, X, y)\u001b[0m\n\u001b[0;32m     16\u001b[0m         \u001b[0mself\u001b[0m\u001b[1;33m.\u001b[0m\u001b[0mweights_input_hidden\u001b[0m \u001b[1;33m=\u001b[0m \u001b[0mnp\u001b[0m\u001b[1;33m.\u001b[0m\u001b[0mrandom\u001b[0m\u001b[1;33m.\u001b[0m\u001b[0muniform\u001b[0m\u001b[1;33m(\u001b[0m\u001b[1;33m-\u001b[0m\u001b[1;36m1\u001b[0m\u001b[1;33m,\u001b[0m \u001b[1;36m1\u001b[0m\u001b[1;33m,\u001b[0m \u001b[1;33m(\u001b[0m\u001b[0mn_features\u001b[0m\u001b[1;33m,\u001b[0m \u001b[0mself\u001b[0m\u001b[1;33m.\u001b[0m\u001b[0mhidden_units\u001b[0m\u001b[1;33m)\u001b[0m\u001b[1;33m)\u001b[0m\u001b[1;33m\u001b[0m\u001b[1;33m\u001b[0m\u001b[0m\n\u001b[0;32m     17\u001b[0m         \u001b[0mself\u001b[0m\u001b[1;33m.\u001b[0m\u001b[0mbiases_hidden\u001b[0m \u001b[1;33m=\u001b[0m \u001b[0mnp\u001b[0m\u001b[1;33m.\u001b[0m\u001b[0mrandom\u001b[0m\u001b[1;33m.\u001b[0m\u001b[0muniform\u001b[0m\u001b[1;33m(\u001b[0m\u001b[1;33m-\u001b[0m\u001b[1;36m1\u001b[0m\u001b[1;33m,\u001b[0m \u001b[1;36m1\u001b[0m\u001b[1;33m,\u001b[0m \u001b[0mself\u001b[0m\u001b[1;33m.\u001b[0m\u001b[0mhidden_units\u001b[0m\u001b[1;33m)\u001b[0m\u001b[1;33m\u001b[0m\u001b[1;33m\u001b[0m\u001b[0m\n\u001b[1;32m---> 18\u001b[1;33m         \u001b[0mhidden_layer_output\u001b[0m \u001b[1;33m=\u001b[0m \u001b[0mself\u001b[0m\u001b[1;33m.\u001b[0m\u001b[0m_sigmoid\u001b[0m\u001b[1;33m(\u001b[0m\u001b[0mnp\u001b[0m\u001b[1;33m.\u001b[0m\u001b[0mdot\u001b[0m\u001b[1;33m(\u001b[0m\u001b[0mX\u001b[0m\u001b[1;33m,\u001b[0m \u001b[0mself\u001b[0m\u001b[1;33m.\u001b[0m\u001b[0mweights_input_hidden\u001b[0m\u001b[1;33m)\u001b[0m \u001b[1;33m+\u001b[0m \u001b[0mself\u001b[0m\u001b[1;33m.\u001b[0m\u001b[0mbiases_hidden\u001b[0m\u001b[1;33m)\u001b[0m\u001b[1;33m\u001b[0m\u001b[1;33m\u001b[0m\u001b[0m\n\u001b[0m\u001b[0;32m     19\u001b[0m \u001b[1;33m\u001b[0m\u001b[0m\n\u001b[0;32m     20\u001b[0m         \u001b[0mlabel_binarizer\u001b[0m \u001b[1;33m=\u001b[0m \u001b[0mLabelBinarizer\u001b[0m\u001b[1;33m(\u001b[0m\u001b[1;33m)\u001b[0m\u001b[1;33m\u001b[0m\u001b[1;33m\u001b[0m\u001b[0m\n",
      "\u001b[1;32m<__array_function__ internals>\u001b[0m in \u001b[0;36mdot\u001b[1;34m(*args, **kwargs)\u001b[0m\n",
      "\u001b[1;31mTypeError\u001b[0m: can't multiply sequence by non-int of type 'float'"
     ]
    }
   ],
   "source": [
    "import numpy as np\n",
    "import pandas as pd\n",
    "from sklearn.model_selection import KFold\n",
    "from sklearn.metrics import accuracy_score\n",
    "from sklearn.preprocessing import LabelBinarizer\n",
    "\n",
    "class ELMClassifier:\n",
    "    def __init__(self, hidden_units):\n",
    "        self.hidden_units = hidden_units\n",
    "\n",
    "    def _sigmoid(self, x):\n",
    "        return 1.0 / (1.0 + np.exp(-x))\n",
    "\n",
    "    def fit(self, X, y):\n",
    "        n_samples, n_features = X.shape\n",
    "        self.weights_input_hidden = np.random.uniform(-1, 1, (n_features, self.hidden_units))\n",
    "        self.biases_hidden = np.random.uniform(-1, 1, self.hidden_units)\n",
    "        hidden_layer_output = self._sigmoid(np.dot(X, self.weights_input_hidden) + self.biases_hidden)\n",
    "\n",
    "        label_binarizer = LabelBinarizer()\n",
    "        label_binarizer.fit(y)\n",
    "        encoded_y = label_binarizer.transform(y)\n",
    "\n",
    "        self.weights_hidden_output = np.dot(np.linalg.pinv(hidden_layer_output), encoded_y)\n",
    "\n",
    "    def predict(self, X):\n",
    "        hidden_layer_output = self._sigmoid(np.dot(X, self.weights_input_hidden) + self.biases_hidden)\n",
    "        predicted_output = np.dot(hidden_layer_output, self.weights_hidden_output)\n",
    "        return np.argmax(predicted_output, axis=1)\n",
    "\n",
    "def k_fold_cross_val(X, y, n_splits, hidden_units):\n",
    "    kf = KFold(n_splits=n_splits)\n",
    "    accuracies = []\n",
    "\n",
    "    for train_index, test_index in kf.split(X):\n",
    "        X_train, X_test = X[train_index], X[test_index]\n",
    "        y_train, y_test = y[train_index], y[test_index]\n",
    "\n",
    "        elm = ELMClassifier(hidden_units=hidden_units)\n",
    "        elm.fit(X_train, y_train)\n",
    "        y_pred = elm.predict(X_test)\n",
    "\n",
    "        accuracy = accuracy_score(y_test, y_pred)\n",
    "        accuracies.append(accuracy)\n",
    "\n",
    "    return np.mean(accuracies)\n",
    "\n",
    "# Contoh penggunaan dengan dataset CSV\n",
    "X = men.iloc[:, :-1].values\n",
    "y = men.iloc[:, -1].values\n",
    "\n",
    "n_splits = 5  # Jumlah lipatan dalam k-fold cross validation\n",
    "hidden_units = 10  # Jumlah unit tersembunyi dalam ELM\n",
    "\n",
    "accuracy = k_fold_cross_val(X, y, n_splits, hidden_units)\n",
    "print(f\"Average accuracy: {accuracy}\")"
   ]
  },
  {
   "cell_type": "code",
   "execution_count": 31,
   "id": "ddc1f6e6",
   "metadata": {},
   "outputs": [
    {
     "ename": "ModuleNotFoundError",
     "evalue": "No module named 'sklearn_elm'",
     "output_type": "error",
     "traceback": [
      "\u001b[1;31m---------------------------------------------------------------------------\u001b[0m",
      "\u001b[1;31mModuleNotFoundError\u001b[0m                       Traceback (most recent call last)",
      "\u001b[1;32m<ipython-input-31-3832422f725c>\u001b[0m in \u001b[0;36m<module>\u001b[1;34m\u001b[0m\n\u001b[0;32m      1\u001b[0m \u001b[1;32mimport\u001b[0m \u001b[0mpandas\u001b[0m \u001b[1;32mas\u001b[0m \u001b[0mpd\u001b[0m\u001b[1;33m\u001b[0m\u001b[1;33m\u001b[0m\u001b[0m\n\u001b[1;32m----> 2\u001b[1;33m \u001b[1;32mimport\u001b[0m \u001b[0msklearn_elm\u001b[0m\u001b[1;33m\u001b[0m\u001b[1;33m\u001b[0m\u001b[0m\n\u001b[0m\u001b[0;32m      3\u001b[0m \u001b[1;32mfrom\u001b[0m \u001b[0msklearn\u001b[0m\u001b[1;33m.\u001b[0m\u001b[0mpreprocessing\u001b[0m \u001b[1;32mimport\u001b[0m \u001b[0mLabelEncoder\u001b[0m\u001b[1;33m\u001b[0m\u001b[1;33m\u001b[0m\u001b[0m\n\u001b[0;32m      4\u001b[0m \u001b[1;32mfrom\u001b[0m \u001b[0msklearn\u001b[0m\u001b[1;33m.\u001b[0m\u001b[0mmodel_selection\u001b[0m \u001b[1;32mimport\u001b[0m \u001b[0mStratifiedKFold\u001b[0m\u001b[1;33m\u001b[0m\u001b[1;33m\u001b[0m\u001b[0m\n\u001b[0;32m      5\u001b[0m \u001b[1;32mfrom\u001b[0m \u001b[0msklearn\u001b[0m\u001b[1;33m.\u001b[0m\u001b[0mmetrics\u001b[0m \u001b[1;32mimport\u001b[0m \u001b[0maccuracy_score\u001b[0m\u001b[1;33m\u001b[0m\u001b[1;33m\u001b[0m\u001b[0m\n",
      "\u001b[1;31mModuleNotFoundError\u001b[0m: No module named 'sklearn_elm'"
     ]
    }
   ],
   "source": [
    "import pandas as pd\n",
    "import sklearn_elm\n",
    "from sklearn.preprocessing import LabelEncoder\n",
    "from sklearn.model_selection import StratifiedKFold\n",
    "from sklearn.metrics import accuracy_score\n",
    "from sklearn_elm import ELMClassifier\n",
    "import numpy as np\n",
    "\n",
    "# Memisahkan fitur (X) dan target (y)\n",
    "X = men.iloc[:, :-1]  # Mengambil semua kolom kecuali kolom target\n",
    "y = men.iloc[:, -1]   # Mengambil kolom target\n",
    "\n",
    "# Mengubah tipe data kategorik menjadi numerik menggunakan LabelEncoder\n",
    "label_encoder = LabelEncoder()\n",
    "y = label_encoder.fit_transform(y)\n",
    "\n",
    "# Inisialisasi ELMClassifier\n",
    "elm = ELMClassifier()\n",
    "\n",
    "# Inisialisasi k-fold cross-validation\n",
    "k = 5  # Jumlah lipatan (folds)\n",
    "kf = StratifiedKFold(n_splits=k, shuffle=True, random_state=42)\n",
    "\n",
    "# Melakukan k-fold cross-validation\n",
    "accuracies = []\n",
    "for train_index, test_index in kf.split(X, y):\n",
    "    X_train, X_test = np.array(X.iloc[train_index]), np.array(X.iloc[test_index])\n",
    "    y_train, y_test = np.array(y[train_index]), np.array(y[test_index])\n",
    "\n",
    "    # Melatih model ELM pada set pelatihan\n",
    "    elm.fit(X_train, y_train)\n",
    "\n",
    "    # Memprediksi kelas pada set pengujian\n",
    "    y_pred = elm.predict(X_test)\n",
    "\n",
    "    # Menghitung akurasi\n",
    "    accuracy = accuracy_score(y_test, y_pred)\n",
    "    accuracies.append(accuracy)\n",
    "\n",
    "# Menampilkan akurasi rata-rata dari k-fold cross-validation\n",
    "average_accuracy = sum(accuracies) / len(accuracies)\n",
    "print(\"Average Accuracy:\", average_accuracy)"
   ]
  },
  {
   "cell_type": "markdown",
   "id": "7ecfeb8a",
   "metadata": {},
   "source": [
    "# Data Cleansing"
   ]
  },
  {
   "cell_type": "code",
   "execution_count": null,
   "id": "537b9899",
   "metadata": {},
   "outputs": [],
   "source": [
    "#mengganti nilai 0 dengan NaN \n",
    "diab_new=diab\n",
    "diab_new[[\"Glucose\", \"BloodPressure\", \"SkinThickness\", \"Insulin\", \"BMI\"]] = diab_new[[\"Glucose\", \"BloodPressure\", \n",
    "                                                                                      \"SkinThickness\", \n",
    "                                                                                      \"Insulin\", \"BMI\"]].replace(0, np.NaN)"
   ]
  },
  {
   "cell_type": "code",
   "execution_count": null,
   "id": "293de468",
   "metadata": {},
   "outputs": [],
   "source": [
    "#hitung banyaknya Nan\n",
    "diab_new.isnull().sum()"
   ]
  },
  {
   "cell_type": "code",
   "execution_count": null,
   "id": "5ac2f4cf",
   "metadata": {},
   "outputs": [],
   "source": [
    "#mengganti NaN dengan nilai rata-rata\n",
    "diab_new[\"Glucose\"].fillna(diab_new[\"Glucose\"].mean(), inplace = True)\n",
    "diab_new[\"BloodPressure\"].fillna(diab_new[\"BloodPressure\"].mean(), inplace = True)\n",
    "diab_new[\"SkinThickness\"].fillna(diab_new[\"SkinThickness\"].mean(), inplace = True)\n",
    "diab_new[\"Insulin\"].fillna(diab_new[\"Insulin\"].mean(), inplace = True)\n",
    "diab_new[\"BMI\"].fillna(diab_new[\"BMI\"].mean(), inplace = True)"
   ]
  },
  {
   "cell_type": "code",
   "execution_count": null,
   "id": "4ecd8c6c",
   "metadata": {},
   "outputs": [],
   "source": [
    "#cek nilai null\n",
    "diab_new.isnull().sum()"
   ]
  },
  {
   "cell_type": "code",
   "execution_count": null,
   "id": "76d20dbd",
   "metadata": {},
   "outputs": [],
   "source": [
    "diab_new.head()"
   ]
  },
  {
   "cell_type": "code",
   "execution_count": null,
   "id": "b1b32282",
   "metadata": {},
   "outputs": [],
   "source": [
    "#transforming variabel prediktor dengan metode MinMaxScaler\n",
    "from sklearn import preprocessing\n",
    "transformasi_min_max=preprocessing.MinMaxScaler()\n",
    "datadiab_norm = transformasi_min_max.fit_transform(diab_new)\n",
    "datadiab_norm"
   ]
  },
  {
   "cell_type": "markdown",
   "id": "e4c653ca",
   "metadata": {},
   "source": [
    "# Pembagian Variabel"
   ]
  },
  {
   "cell_type": "code",
   "execution_count": null,
   "id": "385c0ea1",
   "metadata": {},
   "outputs": [],
   "source": [
    "#membagi data menjadi variabel target dan atribut\n",
    "target = 'Outcome'\n",
    "x = diab_new.drop('Outcome', axis=1)\n",
    "y = diab_new[target]\n",
    "var_x=['Pregnancies','Glucose','BloodPressure','SkinThickness', 'Insulin', 'BMI', 'DiabetesPedigreeFunction', 'Age']\n",
    "x = pd.DataFrame(data=transformasi_min_max.fit_transform(x), columns=var_x)"
   ]
  },
  {
   "cell_type": "code",
   "execution_count": null,
   "id": "53ad74f1",
   "metadata": {},
   "outputs": [],
   "source": [
    "x"
   ]
  },
  {
   "cell_type": "code",
   "execution_count": null,
   "id": "8d983970",
   "metadata": {},
   "outputs": [],
   "source": [
    "y"
   ]
  },
  {
   "cell_type": "markdown",
   "id": "92b57d40",
   "metadata": {},
   "source": [
    "# Pembagian Data Training dan Data Testing"
   ]
  },
  {
   "cell_type": "markdown",
   "id": "2a0338de",
   "metadata": {},
   "source": [
    "### 1. 25% Testing 75% Training"
   ]
  },
  {
   "cell_type": "code",
   "execution_count": null,
   "id": "9f787166",
   "metadata": {},
   "outputs": [],
   "source": [
    "#membagi data menjadi data training (75%) dan data testing (25%)\n",
    "from sklearn.model_selection import train_test_split\n",
    "x_train, x_test, y_train, y_test = train_test_split(x,y,test_size=0.25, random_state=1)"
   ]
  },
  {
   "cell_type": "code",
   "execution_count": null,
   "id": "fbf739fb",
   "metadata": {},
   "outputs": [],
   "source": [
    "#Melihat seberapa banyak nilai 1 dan 0 pada Variabel Outcome\n",
    "diab_new['Outcome'].value_counts()"
   ]
  },
  {
   "cell_type": "markdown",
   "id": "02cbe2bc",
   "metadata": {},
   "source": [
    "# Visualisasi"
   ]
  },
  {
   "cell_type": "code",
   "execution_count": null,
   "id": "953e4c68",
   "metadata": {},
   "outputs": [],
   "source": [
    "import matplotlib.pyplot as plt\n",
    "import seaborn as sns"
   ]
  },
  {
   "cell_type": "code",
   "execution_count": null,
   "id": "982619d0",
   "metadata": {},
   "outputs": [],
   "source": [
    "sns.set(style=\"white\")\n",
    "sns.set(style=\"whitegrid\", color_codes=True)\n",
    "sns.countplot(x='Outcome', data=diab_new, palette='hls')\n",
    "plt.show()\n",
    "plt.savefig('count_plot')"
   ]
  },
  {
   "cell_type": "code",
   "execution_count": null,
   "id": "57a32e68",
   "metadata": {},
   "outputs": [],
   "source": [
    "sns.set(style=\"white\")\n",
    "sns.set(style=\"whitegrid\", color_codes=True)\n",
    "\n",
    "fig, ax = plt.subplots()\n",
    "sns.countplot(x='Outcome',data=diab_new ,palette='bone', ax=ax)\n",
    "\n",
    "plt.show()\n",
    "fig.savefig('count_plot')"
   ]
  },
  {
   "cell_type": "code",
   "execution_count": null,
   "id": "2d1a2142",
   "metadata": {},
   "outputs": [],
   "source": [
    "sns.set(style=\"white\")\n",
    "sns.set(style=\"whitegrid\", color_codes=True)\n",
    "\n",
    "fig, ax = plt.subplots()\n",
    "sns.countplot(x='Outcome',data=diab_new,palette='crayon', ax=ax)\n",
    "\n",
    "plt.show()\n",
    "fig.savefig('count_plot')"
   ]
  },
  {
   "cell_type": "code",
   "execution_count": null,
   "id": "a462fb13",
   "metadata": {},
   "outputs": [],
   "source": [
    "import seaborn as sns\n",
    "\n",
    "# Define a custom color palette using a list of colors\n",
    "my_palette = [\"#4c72b0\", \"#55a868\"]\n",
    "\n",
    "sns.set(style=\"whitegrid\", color_codes=True)\n",
    "\n",
    "fig, ax = plt.subplots()\n",
    "sns.countplot(x='Outcome', data=diab_new, palette=my_palette, ax=ax)\n",
    "ax.set_xlabel('Outcome')\n",
    "ax.set_ylabel('Count')\n",
    "\n",
    "plt.show()\n",
    "fig.savefig('count_plot.png')"
   ]
  },
  {
   "cell_type": "markdown",
   "id": "82bcb400",
   "metadata": {},
   "source": [
    "# Regresi Logistik"
   ]
  },
  {
   "cell_type": "code",
   "execution_count": null,
   "id": "cd92a228",
   "metadata": {},
   "outputs": [],
   "source": [
    "from sklearn.linear_model import LogisticRegression\n",
    "from sklearn import metrics\n",
    "logreg = LogisticRegression()\n",
    "logreg.fit(x_train, y_train)"
   ]
  },
  {
   "cell_type": "code",
   "execution_count": null,
   "id": "8d292a63",
   "metadata": {},
   "outputs": [],
   "source": [
    "y_pred = logreg.predict(x_test)\n",
    "print('Akurasi pengklasifikasi regresi logistik pada set uji: {:.2f}'.format(logreg.score(x_test, y_test)))"
   ]
  },
  {
   "cell_type": "code",
   "execution_count": null,
   "id": "80d2bc67",
   "metadata": {},
   "outputs": [],
   "source": [
    "y_pred"
   ]
  },
  {
   "cell_type": "code",
   "execution_count": null,
   "id": "c48e0619",
   "metadata": {},
   "outputs": [],
   "source": [
    "# Hitung akurasi dari model\n",
    "accuracy = logreg.score(x_test, y_test)\n",
    "print(\"Akurasi pengklasifikasi regresi logistik pada set uji: {:.2f}%\".format(accuracy * 100))"
   ]
  },
  {
   "cell_type": "code",
   "execution_count": null,
   "id": "7bfbde43",
   "metadata": {},
   "outputs": [],
   "source": [
    "from sklearn.metrics import confusion_matrix\n",
    "confusion_matrix = confusion_matrix(y_test, y_pred)\n",
    "print(\"Jumlah prediksi benar dan salah setiap kelas pada set uji:\\n\",\n",
    "      confusion_matrix)"
   ]
  },
  {
   "cell_type": "code",
   "execution_count": null,
   "id": "a9d14501",
   "metadata": {},
   "outputs": [],
   "source": [
    "#berguna untuk mengevaluasi kinerja model dalam memprediksi label pada setiap kelas, \n",
    "#terutama jika kelas-kelas tersebut tidak seimbang (imbalanced).\n",
    "from sklearn.metrics import classification_report\n",
    "print(\"Kinerja model klasifikasi pada setiap kelas:\\n\", classification_report(y_test, y_pred))"
   ]
  },
  {
   "cell_type": "code",
   "execution_count": null,
   "id": "481d0951",
   "metadata": {},
   "outputs": [],
   "source": [
    "# Membuat visualisasi matriks konfusi\n",
    "from sklearn.metrics import plot_confusion_matrix\n",
    "import matplotlib.pyplot as plt\n",
    "plot_confusion_matrix(logreg, x_test, y_test, cmap='Oranges')\n",
    "plt.show()"
   ]
  },
  {
   "cell_type": "markdown",
   "id": "71da2032",
   "metadata": {},
   "source": [
    "# Naive Bayes"
   ]
  },
  {
   "cell_type": "code",
   "execution_count": null,
   "id": "4a70da93",
   "metadata": {},
   "outputs": [],
   "source": [
    "# train a Gaussian Naive Bayes classifier on the training set\n",
    "from sklearn.naive_bayes import GaussianNB\n",
    "\n",
    "\n",
    "# instantiate the model\n",
    "gnb = GaussianNB()\n",
    "\n",
    "\n",
    "# fit the model\n",
    "gnb.fit(x_train, y_train)"
   ]
  },
  {
   "cell_type": "code",
   "execution_count": null,
   "id": "7c7f2cf1",
   "metadata": {},
   "outputs": [],
   "source": [
    "y_pred = gnb.predict(x_test)\n",
    "y_pred"
   ]
  },
  {
   "cell_type": "code",
   "execution_count": null,
   "id": "6fcb5cbd",
   "metadata": {},
   "outputs": [],
   "source": [
    "y_predict = gnb.predict(x_test)\n",
    "print('Akurasi pengklasifikasi Naive Bayes pada set uji: {:.2f}'.format(gnb.score(x_test, y_test)))"
   ]
  },
  {
   "cell_type": "code",
   "execution_count": null,
   "id": "7a5a722c",
   "metadata": {},
   "outputs": [],
   "source": [
    "# Hitung akurasi dari model\n",
    "accuracy = gnb.score(x_test, y_test)\n",
    "print(\"Akurasi pengklasifikasi Naive Bayes pada set uji: {:.2f}%\".format(accuracy * 100))"
   ]
  },
  {
   "cell_type": "code",
   "execution_count": null,
   "id": "5705c663",
   "metadata": {},
   "outputs": [],
   "source": [
    "from sklearn.metrics import confusion_matrix\n",
    "confusion_matrix = confusion_matrix(y_test, y_pred)\n",
    "print(\"Jumlah prediksi benar dan salah setiap kelas pada set uji:\\n\",\n",
    "      confusion_matrix)"
   ]
  },
  {
   "cell_type": "code",
   "execution_count": null,
   "id": "a6885ef8",
   "metadata": {},
   "outputs": [],
   "source": [
    "from sklearn.metrics import classification_report\n",
    "print(\"Kinerja model klasifikasi pada setiap kelas:\\n\", classification_report(y_test, y_pred))"
   ]
  },
  {
   "cell_type": "code",
   "execution_count": null,
   "id": "3423f945",
   "metadata": {},
   "outputs": [],
   "source": [
    "# Membuat visualisasi matriks konfusi\n",
    "from sklearn.metrics import plot_confusion_matrix\n",
    "import matplotlib.pyplot as plt\n",
    "plot_confusion_matrix(gnb, x_test, y_test, cmap='ocean')\n",
    "plt.show()"
   ]
  },
  {
   "cell_type": "markdown",
   "id": "e468af98",
   "metadata": {},
   "source": [
    "# Decision Tree"
   ]
  },
  {
   "cell_type": "code",
   "execution_count": null,
   "id": "707774e8",
   "metadata": {},
   "outputs": [],
   "source": [
    "from sklearn.tree import DecisionTreeClassifier\n",
    "# Create Decision Tree classifer object\n",
    "clf = DecisionTreeClassifier()\n",
    "\n",
    "# Train Decision Tree Classifer\n",
    "clf = clf.fit(x_train,y_train)\n",
    "\n",
    "#Predict the response for test dataset\n",
    "y_pred = clf.predict(x_test)\n",
    "y_pred"
   ]
  },
  {
   "cell_type": "code",
   "execution_count": null,
   "id": "dfefbcb0",
   "metadata": {},
   "outputs": [],
   "source": [
    "# Model Accuracy, how often is the classifier correct?\n",
    "print(\"Accuracy pengklasifikasi Decision Tree pada set uji: {:.2f}%:\",metrics.accuracy_score(y_test, y_pred))"
   ]
  },
  {
   "cell_type": "code",
   "execution_count": null,
   "id": "8ed5f3b6",
   "metadata": {},
   "outputs": [],
   "source": [
    "# Hitung akurasi dari model\n",
    "akurasi = clf.score(x_test, y_test)\n",
    "print(\"Akurasi pengklasifikasi Decision Tree pada set uji: {:.2f}%\".format(akurasi * 100))"
   ]
  },
  {
   "cell_type": "code",
   "execution_count": null,
   "id": "6a96a83b",
   "metadata": {},
   "outputs": [],
   "source": [
    "from sklearn.metrics import confusion_matrix\n",
    "confusion_matrix = confusion_matrix(y_test, y_pred)\n",
    "print(\"Jumlah prediksi benar dan salah setiap kelas pada set uji:\\n\",\n",
    "      confusion_matrix)"
   ]
  },
  {
   "cell_type": "code",
   "execution_count": null,
   "id": "db399880",
   "metadata": {},
   "outputs": [],
   "source": [
    "from sklearn.metrics import classification_report\n",
    "print(\"Kinerja model klasifikasi pada setiap kelas:\\n\", classification_report(y_test, y_pred))"
   ]
  },
  {
   "cell_type": "code",
   "execution_count": null,
   "id": "1c1b0df0",
   "metadata": {},
   "outputs": [],
   "source": [
    "# Membuat visualisasi matriks konfusi\n",
    "from sklearn.metrics import plot_confusion_matrix\n",
    "import matplotlib.pyplot as plt\n",
    "plot_confusion_matrix(clf, x_test, y_test, cmap='mako')\n",
    "plt.show()"
   ]
  },
  {
   "cell_type": "markdown",
   "id": "7e33598b",
   "metadata": {},
   "source": [
    "Confusion matrix adalah tabel yang digunakan untuk mengevaluasi performa model klasifikasi pada data testing. Tabel ini berisi empat nilai yaitu True Positive (TP), False Positive (FP), False Negative (FN), dan True Negative (TN). Berikut adalah ilustrasi tabel confusion matrix:\n",
    "\n",
    "              Prediksi Positive   Prediksi Negative\n",
    "Aktual Positive     TP                FN\n",
    "Aktual Negative     FP                TN\n",
    "\n",
    "\n",
    "Dalam tabel confusion matrix tersebut, TP adalah jumlah data yang benar diprediksi sebagai positive, FP adalah jumlah data yang salah diprediksi sebagai positive, FN adalah jumlah data yang seharusnya diprediksi sebagai positive namun salah diprediksi sebagai negative, dan TN adalah jumlah data yang benar diprediksi sebagai negative.\n",
    "\n",
    "Dari nilai-nilai tersebut, kita dapat menghitung beberapa metrik evaluasi performa model seperti accuracy, precision, recall, dan F1-score. Berikut adalah rumus untuk menghitung metrik-metrik tersebut:\n",
    "\n",
    "Accuracy = (TP + TN) / (TP + FP + FN + TN)\n",
    "\n",
    "Precision = TP / (TP + FP)\n",
    "\n",
    "Recall = TP / (TP + FN)\n",
    "\n",
    "F1-score = 2 * (precision * recall) / (precision + recall)\n",
    "\n",
    "Dalam hal interpretasi confusion matrix, nilai TP yang besar menandakan bahwa model dapat mengidentifikasi kelas positive dengan baik. Sedangkan nilai TN yang besar menandakan bahwa model dapat mengidentifikasi kelas negative dengan baik. Namun, nilai FP dan FN yang besar menandakan model masih mengalami kesalahan dalam mengklasifikasikan data.\n",
    "\n",
    "Dalam prakteknya, kita perlu mempertimbangkan metrik evaluasi yang sesuai dengan tujuan dan karakteristik data kita. Misalnya, pada kasus klasifikasi fraud, kita mungkin lebih fokus pada precision (seberapa banyak yang diprediksi sebagai fraud yang benar-benar fraud), sementara pada kasus klasifikasi penyakit, kita mungkin lebih fokus pada recall (seberapa banyak penyakit yang terdeteksi dengan benar)."
   ]
  },
  {
   "cell_type": "markdown",
   "id": "5e6d629c",
   "metadata": {},
   "source": [
    "### 2. 20% Testing 80% Training"
   ]
  },
  {
   "cell_type": "code",
   "execution_count": null,
   "id": "1880bd4b",
   "metadata": {},
   "outputs": [],
   "source": [
    "#membagi data menjadi data training (80%) dan data testing (20%)\n",
    "from sklearn.model_selection import train_test_split\n",
    "x_train, x_test, y_train, y_test = train_test_split(x,y,test_size=0.2, random_state=1)"
   ]
  },
  {
   "cell_type": "code",
   "execution_count": null,
   "id": "67c3c2f4",
   "metadata": {},
   "outputs": [],
   "source": [
    "#Melihat seberapa banyak nilai 1 dan 0 pada Variabel Outcome\n",
    "diab_new['Outcome'].value_counts()"
   ]
  },
  {
   "cell_type": "markdown",
   "id": "a93b9dda",
   "metadata": {},
   "source": [
    "# Regresi Logistik"
   ]
  },
  {
   "cell_type": "code",
   "execution_count": null,
   "id": "7a658d37",
   "metadata": {},
   "outputs": [],
   "source": [
    "from sklearn.linear_model import LogisticRegression\n",
    "from sklearn import metrics\n",
    "logreg1 = LogisticRegression()\n",
    "logreg1.fit(x_train, y_train)"
   ]
  },
  {
   "cell_type": "code",
   "execution_count": null,
   "id": "288cfd22",
   "metadata": {},
   "outputs": [],
   "source": [
    "y_pred = logreg1.predict(x_test)\n",
    "print('Akurasi pengklasifikasi regresi logistik pada set uji: {:.2f}'.format(logreg1.score(x_test, y_test)))"
   ]
  },
  {
   "cell_type": "code",
   "execution_count": null,
   "id": "5fd52dc4",
   "metadata": {},
   "outputs": [],
   "source": [
    "# Hitung akurasi dari model\n",
    "accuracy = logreg1.score(x_test, y_test)\n",
    "print(\"Akurasi pengklasifikasi regresi logistik pada set uji: {:.2f}%\".format(accuracy * 100))"
   ]
  },
  {
   "cell_type": "code",
   "execution_count": null,
   "id": "6f4b3f58",
   "metadata": {},
   "outputs": [],
   "source": [
    "from sklearn.metrics import confusion_matrix\n",
    "confusion_matrix = confusion_matrix(y_test, y_pred)\n",
    "print(\"Jumlah prediksi benar dan salah setiap kelas pada set uji:\\n\",\n",
    "      confusion_matrix)"
   ]
  },
  {
   "cell_type": "code",
   "execution_count": null,
   "id": "9995f079",
   "metadata": {},
   "outputs": [],
   "source": [
    "#berguna untuk mengevaluasi kinerja model dalam memprediksi label pada setiap kelas, \n",
    "#terutama jika kelas-kelas tersebut tidak seimbang (imbalanced).\n",
    "from sklearn.metrics import classification_report\n",
    "print(\"Kinerja model klasifikasi pada setiap kelas:\\n\", classification_report(y_test, y_pred))"
   ]
  },
  {
   "cell_type": "code",
   "execution_count": null,
   "id": "82c6cc26",
   "metadata": {},
   "outputs": [],
   "source": [
    "# Membuat visualisasi matriks konfusi\n",
    "from sklearn.metrics import plot_confusion_matrix\n",
    "import matplotlib.pyplot as plt\n",
    "plot_confusion_matrix(logreg1, x_test, y_test, cmap='Greens')\n",
    "plt.show()"
   ]
  },
  {
   "cell_type": "markdown",
   "id": "5b80f622",
   "metadata": {},
   "source": [
    "# Naive Bayes"
   ]
  },
  {
   "cell_type": "code",
   "execution_count": null,
   "id": "1c3c2095",
   "metadata": {},
   "outputs": [],
   "source": [
    "# train a Gaussian Naive Bayes classifier on the training set\n",
    "from sklearn.naive_bayes import GaussianNB\n",
    "\n",
    "\n",
    "# instantiate the model\n",
    "gnb1 = GaussianNB()\n",
    "\n",
    "\n",
    "# fit the model\n",
    "gnb1.fit(x_train, y_train)"
   ]
  },
  {
   "cell_type": "code",
   "execution_count": null,
   "id": "2c663173",
   "metadata": {},
   "outputs": [],
   "source": [
    "y_pred = gnb1.predict(x_test)"
   ]
  },
  {
   "cell_type": "code",
   "execution_count": null,
   "id": "8752a69f",
   "metadata": {},
   "outputs": [],
   "source": [
    "y_predict = gnb1.predict(x_test)\n",
    "print('Akurasi pengklasifikasi Naive Bayes pada set uji: {:.2f}'.format(gnb1.score(x_test, y_test)))"
   ]
  },
  {
   "cell_type": "code",
   "execution_count": null,
   "id": "4de6caa8",
   "metadata": {},
   "outputs": [],
   "source": [
    "# Hitung akurasi dari model\n",
    "accuracy = gnb1.score(x_test, y_test)\n",
    "print(\"Akurasi pengklasifikasi Naive Bayes pada set uji: {:.2f}%\".format(accuracy * 100))"
   ]
  },
  {
   "cell_type": "code",
   "execution_count": null,
   "id": "c99b522d",
   "metadata": {},
   "outputs": [],
   "source": [
    "from sklearn.metrics import confusion_matrix\n",
    "confusion_matrix = confusion_matrix(y_test, y_pred)\n",
    "print(\"Jumlah prediksi benar dan salah setiap kelas pada set uji:\\n\",\n",
    "      confusion_matrix)"
   ]
  },
  {
   "cell_type": "code",
   "execution_count": null,
   "id": "9adc7d96",
   "metadata": {},
   "outputs": [],
   "source": [
    "from sklearn.metrics import classification_report\n",
    "print(\"Kinerja model klasifikasi pada setiap kelas:\\n\", classification_report(y_test, y_pred))"
   ]
  },
  {
   "cell_type": "code",
   "execution_count": null,
   "id": "ecccb1d1",
   "metadata": {},
   "outputs": [],
   "source": [
    "# Membuat visualisasi matriks konfusi\n",
    "from sklearn.metrics import plot_confusion_matrix\n",
    "import matplotlib.pyplot as plt\n",
    "plot_confusion_matrix(gnb1, x_test, y_test, cmap='summer')\n",
    "plt.show()"
   ]
  },
  {
   "cell_type": "markdown",
   "id": "6af03359",
   "metadata": {},
   "source": [
    "# Decision Tree"
   ]
  },
  {
   "cell_type": "code",
   "execution_count": null,
   "id": "44c57464",
   "metadata": {},
   "outputs": [],
   "source": [
    "from sklearn.tree import DecisionTreeClassifier\n",
    "# Create Decision Tree classifer object\n",
    "clf1 = DecisionTreeClassifier()\n",
    "\n",
    "# Train Decision Tree Classifer\n",
    "clf1 = clf1.fit(x_train,y_train)\n",
    "\n",
    "#Predict the response for test dataset\n",
    "y_pred = clf1.predict(x_test)"
   ]
  },
  {
   "cell_type": "code",
   "execution_count": null,
   "id": "fb49129f",
   "metadata": {},
   "outputs": [],
   "source": [
    "# Model Accuracy, how often is the classifier correct?\n",
    "print(\"Accuracy pengklasifikasi Decision Tree pada set uji: {:.2f}%:\",metrics.accuracy_score(y_test, y_pred))"
   ]
  },
  {
   "cell_type": "code",
   "execution_count": null,
   "id": "58e25168",
   "metadata": {},
   "outputs": [],
   "source": [
    "# Hitung akurasi dari model\n",
    "akurasi = clf1.score(x_test, y_test)\n",
    "print(\"Akurasi pengklasifikasi Decision Tree pada set uji: {:.2f}%\".format(akurasi * 100))"
   ]
  },
  {
   "cell_type": "code",
   "execution_count": null,
   "id": "6dbd466b",
   "metadata": {},
   "outputs": [],
   "source": [
    "from sklearn.metrics import confusion_matrix\n",
    "confusion_matrix = confusion_matrix(y_test, y_pred)\n",
    "print(\"Jumlah prediksi benar dan salah setiap kelas pada set uji:\\n\",\n",
    "      confusion_matrix)"
   ]
  },
  {
   "cell_type": "code",
   "execution_count": null,
   "id": "4144547f",
   "metadata": {},
   "outputs": [],
   "source": [
    "from sklearn.metrics import classification_report\n",
    "print(\"Kinerja model klasifikasi pada setiap kelas:\\n\", classification_report(y_test, y_pred))"
   ]
  },
  {
   "cell_type": "code",
   "execution_count": null,
   "id": "1ec9ae5a",
   "metadata": {},
   "outputs": [],
   "source": [
    "# Membuat visualisasi matriks konfusi\n",
    "from sklearn.metrics import plot_confusion_matrix\n",
    "import matplotlib.pyplot as plt\n",
    "plot_confusion_matrix(clf1, x_test, y_test)\n",
    "plt.show()"
   ]
  },
  {
   "cell_type": "code",
   "execution_count": null,
   "id": "e6db9830",
   "metadata": {},
   "outputs": [],
   "source": []
  }
 ],
 "metadata": {
  "kernelspec": {
   "display_name": "Python 3",
   "language": "python",
   "name": "python3"
  },
  "language_info": {
   "codemirror_mode": {
    "name": "ipython",
    "version": 3
   },
   "file_extension": ".py",
   "mimetype": "text/x-python",
   "name": "python",
   "nbconvert_exporter": "python",
   "pygments_lexer": "ipython3",
   "version": "3.8.8"
  }
 },
 "nbformat": 4,
 "nbformat_minor": 5
}
