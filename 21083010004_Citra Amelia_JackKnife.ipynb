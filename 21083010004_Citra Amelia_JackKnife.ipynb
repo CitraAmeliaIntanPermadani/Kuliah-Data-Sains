{
 "cells": [
  {
   "cell_type": "markdown",
   "id": "a1ae99e9",
   "metadata": {},
   "source": [
    "# JACKKNIFE"
   ]
  },
  {
   "cell_type": "markdown",
   "id": "21f77399",
   "metadata": {},
   "source": [
    "Citra Amelia Intan Permadani\n",
    "\n",
    "21083010004\n",
    "\n",
    "Statistika Komputasi - A"
   ]
  },
  {
   "cell_type": "markdown",
   "id": "60d1b1a4",
   "metadata": {},
   "source": [
    "## Standar Error Varians"
   ]
  },
  {
   "cell_type": "code",
   "execution_count": 5,
   "id": "f51230ca",
   "metadata": {},
   "outputs": [],
   "source": [
    "import random\n",
    "import numpy as np \n",
    "import matplotlib.pyplot as plt\n",
    "import seaborn as sns\n",
    "from sklearn.metrics import mean_squared_error\n",
    "import scipy.stats as st"
   ]
  },
  {
   "cell_type": "code",
   "execution_count": 6,
   "id": "762d5ebf",
   "metadata": {},
   "outputs": [],
   "source": [
    "theta_list = []\n",
    "resample_list=[]\n",
    "def stand_error_var(sample):\n",
    "    for index, i in enumerate(sample):\n",
    "        sample_copy = sample.copy()\n",
    "        del sample_copy[index]\n",
    "        resample_list.append(sample_copy)\n",
    "        theta_list.append(np.var(sample_copy))\n",
    "    SEV = (((len(sample)-1)/(len(sample)))*(sum((theta_list - np.mean(theta_list))**2)))**0.5\n",
    "    return resample_list, theta_list, SEV"
   ]
  },
  {
   "cell_type": "code",
   "execution_count": 7,
   "id": "dfb35ed4",
   "metadata": {},
   "outputs": [],
   "source": [
    "sample = [7,11,8,30]"
   ]
  },
  {
   "cell_type": "code",
   "execution_count": 8,
   "id": "987a8e0a",
   "metadata": {},
   "outputs": [],
   "source": [
    "resample_list, theta_list, SEV = stand_error_var(sample)"
   ]
  },
  {
   "cell_type": "code",
   "execution_count": 9,
   "id": "f3a35db7",
   "metadata": {},
   "outputs": [
    {
     "data": {
      "text/plain": [
       "[[11, 8, 30], [7, 8, 30], [7, 11, 30], [7, 11, 8]]"
      ]
     },
     "execution_count": 9,
     "metadata": {},
     "output_type": "execute_result"
    }
   ],
   "source": [
    "resample_list"
   ]
  },
  {
   "cell_type": "code",
   "execution_count": 10,
   "id": "64afe084",
   "metadata": {},
   "outputs": [
    {
     "data": {
      "text/plain": [
       "[94.88888888888887, 112.66666666666667, 100.66666666666667, 2.888888888888889]"
      ]
     },
     "execution_count": 10,
     "metadata": {},
     "output_type": "execute_result"
    }
   ],
   "source": [
    "theta_list"
   ]
  },
  {
   "cell_type": "code",
   "execution_count": 12,
   "id": "acc8b123",
   "metadata": {},
   "outputs": [
    {
     "name": "stdout",
     "output_type": "stream",
     "text": [
      "Standar Error Mean: 75.70801611258682\n"
     ]
    }
   ],
   "source": [
    "print('Standar Error Mean:', SEV)"
   ]
  },
  {
   "cell_type": "markdown",
   "id": "be532e8b",
   "metadata": {},
   "source": [
    "## Standar Error Means"
   ]
  },
  {
   "cell_type": "code",
   "execution_count": 13,
   "id": "ac251a04",
   "metadata": {},
   "outputs": [],
   "source": [
    "theta_list = []\n",
    "resample_list=[]\n",
    "def stand_error_mean(sample):\n",
    "    for index, i in enumerate(sample):\n",
    "        sample_copy = sample.copy()\n",
    "        del sample_copy[index]\n",
    "        resample_list.append(sample_copy)\n",
    "        theta_list.append(np.mean(sample_copy))\n",
    "    SEM = (((len(sample)-1)/(len(sample)))*(sum((theta_list - np.mean(theta_list))**2)))**0.5\n",
    "    return resample_list, theta_list, SEM"
   ]
  },
  {
   "cell_type": "code",
   "execution_count": 14,
   "id": "46284556",
   "metadata": {},
   "outputs": [],
   "source": [
    "resample_list, theta_list, SEM = stand_error_mean(sample)"
   ]
  },
  {
   "cell_type": "code",
   "execution_count": 15,
   "id": "fa9d2ae1",
   "metadata": {},
   "outputs": [
    {
     "data": {
      "text/plain": [
       "[[11, 8, 30], [7, 8, 30], [7, 11, 30], [7, 11, 8]]"
      ]
     },
     "execution_count": 15,
     "metadata": {},
     "output_type": "execute_result"
    }
   ],
   "source": [
    "resample_list"
   ]
  },
  {
   "cell_type": "code",
   "execution_count": 16,
   "id": "436ab4b1",
   "metadata": {},
   "outputs": [
    {
     "data": {
      "text/plain": [
       "[16.333333333333332, 15.0, 16.0, 8.666666666666666]"
      ]
     },
     "execution_count": 16,
     "metadata": {},
     "output_type": "execute_result"
    }
   ],
   "source": [
    "theta_list"
   ]
  },
  {
   "cell_type": "code",
   "execution_count": 17,
   "id": "0e7337ab",
   "metadata": {},
   "outputs": [
    {
     "name": "stdout",
     "output_type": "stream",
     "text": [
      "Standar Error Mean: 5.400617248673217\n"
     ]
    }
   ],
   "source": [
    "print('Standar Error Mean:', SEM)"
   ]
  }
 ],
 "metadata": {
  "kernelspec": {
   "display_name": "Python 3",
   "language": "python",
   "name": "python3"
  },
  "language_info": {
   "codemirror_mode": {
    "name": "ipython",
    "version": 3
   },
   "file_extension": ".py",
   "mimetype": "text/x-python",
   "name": "python",
   "nbconvert_exporter": "python",
   "pygments_lexer": "ipython3",
   "version": "3.8.8"
  }
 },
 "nbformat": 4,
 "nbformat_minor": 5
}
