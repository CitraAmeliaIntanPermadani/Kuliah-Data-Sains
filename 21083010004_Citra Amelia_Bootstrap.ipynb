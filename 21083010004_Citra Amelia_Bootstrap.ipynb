{
 "cells": [
  {
   "cell_type": "markdown",
   "id": "6d40cfe8",
   "metadata": {},
   "source": [
    "# BOOTSRAP"
   ]
  },
  {
   "cell_type": "markdown",
   "id": "43e02ad7",
   "metadata": {},
   "source": [
    "Citra Amelia Intan Permadani\n",
    "\n",
    "21083010004\n",
    "\n",
    "Statistika Komputasi - A"
   ]
  },
  {
   "cell_type": "markdown",
   "id": "4275c9db",
   "metadata": {},
   "source": [
    "## Bootstrap Mean"
   ]
  },
  {
   "cell_type": "code",
   "execution_count": 1,
   "id": "4ec85f94",
   "metadata": {},
   "outputs": [],
   "source": [
    "import random\n",
    "import numpy as np \n",
    "import matplotlib.pyplot as plt\n",
    "import seaborn as sns\n",
    "from sklearn.metrics import mean_squared_error\n",
    "import scipy.stats as st"
   ]
  },
  {
   "cell_type": "code",
   "execution_count": 2,
   "id": "f2a96892",
   "metadata": {},
   "outputs": [],
   "source": [
    "# bootstrap mean dengan pengembalian\n",
    "def btmean(data, r = 100, k = 2, alpha = 0.05):\n",
    "    import random\n",
    "    import numpy as np\n",
    "    from sklearn.metrics import mean_squared_error\n",
    "    import scipy.stats as st\n",
    "    list_1 = []\n",
    "    mean_true = np.repeat(np.mean(data), r)\n",
    "    print(\"Start Bootstrapping\")\n",
    "    for i in range(r):\n",
    "        list_2 = []\n",
    "        for j in range(k):\n",
    "            list_2.append(random.sample(data, 1))\n",
    "        mean_sample = np.mean(list_2)\n",
    "        list_1.append(mean_sample)\n",
    "    print(\"End Bootstrapping\")\n",
    "    mean_resamp = np.mean(list_1)\n",
    "    var_mean_resamp = np.var(list_1)\n",
    "    mse_mean_resamp = mean_squared_error(list_1, mean_true)\n",
    "    ci_mean_resamp = [np.mean(data) - st.norm.ppf(1-alpha/2)*var_mean_resamp**0.5, np.mean(data) + st.norm.ppf(1-alpha/2)*var_mean_resamp**0.5]\n",
    "    return list_1, mean_resamp, var_mean_resamp, mse_mean_resamp, ci_mean_resamp"
   ]
  },
  {
   "cell_type": "code",
   "execution_count": 3,
   "id": "785473c1",
   "metadata": {},
   "outputs": [],
   "source": [
    "sample = [7, 11, 8, 30]"
   ]
  },
  {
   "cell_type": "code",
   "execution_count": 4,
   "id": "25506e0c",
   "metadata": {},
   "outputs": [
    {
     "name": "stdout",
     "output_type": "stream",
     "text": [
      "Start Bootstrapping\n",
      "End Bootstrapping\n"
     ]
    }
   ],
   "source": [
    "resample, mean_resample, var_mean_resample, mse_mean_resample, ci_mean_resample = btmean(list(sample), r=100, k=70)"
   ]
  },
  {
   "cell_type": "code",
   "execution_count": 5,
   "id": "a44c05cd",
   "metadata": {},
   "outputs": [
    {
     "name": "stdout",
     "output_type": "stream",
     "text": [
      "Mean Sesungguhnya:  14.0\n",
      "Mean Bootstrap:  14.195714285714285\n",
      "Var Mean Bootstrap:  1.2907285714285714\n",
      "Error Bootstrap:  1.3290326530612244\n",
      "CI Mean Bootstrap:  [11.773280292484882, 16.226719707515116]\n"
     ]
    }
   ],
   "source": [
    "print(\"Mean Sesungguhnya: \", np.mean(sample))\n",
    "print(\"Mean Bootstrap: \", mean_resample)\n",
    "print(\"Var Mean Bootstrap: \", var_mean_resample)\n",
    "print(\"Error Bootstrap: \", mse_mean_resample)\n",
    "print(\"CI Mean Bootstrap: \", ci_mean_resample)"
   ]
  },
  {
   "cell_type": "code",
   "execution_count": 6,
   "id": "51be0eea",
   "metadata": {},
   "outputs": [
    {
     "name": "stdout",
     "output_type": "stream",
     "text": [
      "Start Bootstrapping\n",
      "End Bootstrapping\n"
     ]
    },
    {
     "name": "stderr",
     "output_type": "stream",
     "text": [
      "C:\\Users\\LENOVO\\anaconda3\\lib\\site-packages\\seaborn\\distributions.py:2557: FutureWarning: `distplot` is a deprecated function and will be removed in a future version. Please adapt your code to use either `displot` (a figure-level function with similar flexibility) or `histplot` (an axes-level function for histograms).\n",
      "  warnings.warn(msg, FutureWarning)\n"
     ]
    },
    {
     "data": {
      "image/png": "[encoded data removed]",
      "text/plain": [
       "<Figure size 432x288 with 1 Axes>"
      ]
     },
     "metadata": {
      "needs_background": "light"
     },
     "output_type": "display_data"
    },
    {
     "name": "stdout",
     "output_type": "stream",
     "text": [
      "Mean Bootstrap:  4.9050245264186945\n"
     ]
    },
    {
     "name": "stderr",
     "output_type": "stream",
     "text": [
      "C:\\Users\\LENOVO\\anaconda3\\lib\\site-packages\\seaborn\\distributions.py:2557: FutureWarning: `distplot` is a deprecated function and will be removed in a future version. Please adapt your code to use either `displot` (a figure-level function with similar flexibility) or `histplot` (an axes-level function for histograms).\n",
      "  warnings.warn(msg, FutureWarning)\n"
     ]
    },
    {
     "data": {
      "image/png": "[encoded data removed]",
      "text/plain": [
       "<Figure size 432x288 with 1 Axes>"
      ]
     },
     "metadata": {
      "needs_background": "light"
     },
     "output_type": "display_data"
    },
    {
     "name": "stdout",
     "output_type": "stream",
     "text": [
      "Mean True:  4.895367882010834\n"
     ]
    }
   ],
   "source": [
    "#chisquare - Bootstrap - Normal\n",
    "sample2 = np.random.chisquare(5, 100)\n",
    "resample, mean_resample, _, _, _ = btmean(list(sample2), r=1000, k=70)\n",
    "sns.distplot(resample)\n",
    "plt.show()\n",
    "print(\"Mean Bootstrap: \", mean_resample)\n",
    "sns.distplot(sample2)\n",
    "plt.show()\n",
    "print(\"Mean True: \", np.mean(sample2))"
   ]
  },
  {
   "cell_type": "markdown",
   "id": "9f032611",
   "metadata": {},
   "source": [
    "## Bootstrap Median"
   ]
  },
  {
   "cell_type": "code",
   "execution_count": 7,
   "id": "00604c1e",
   "metadata": {},
   "outputs": [],
   "source": [
    "# bootstrap median dengan pengembalian\n",
    "def btmedian(data, r = 100, k = 2, alpha = 0.05):\n",
    "    import random\n",
    "    import numpy as np\n",
    "    from sklearn.metrics import mean_squared_error\n",
    "    import scipy.stats as st\n",
    "    list_1 = []\n",
    "    median_true = np.repeat(np.median(data), r)\n",
    "    print(\"Start Bootstrapping\")\n",
    "    for i in range(r):\n",
    "        list_2 = []\n",
    "        for j in range(k):\n",
    "            list_2.append(random.sample(data, 1))\n",
    "        median_sample = np.median(list_2)\n",
    "        list_1.append(median_sample)\n",
    "    print(\"End Bootstrapping\")\n",
    "    median_resamp = np.mean(list_1)\n",
    "    var_median_resamp = np.var(list_1)\n",
    "    mse_median_resamp = mean_squared_error(list_1, median_true)\n",
    "    ci_median_resamp = [np.median(data) - st.norm.ppf(1-alpha/2)*var_median_resamp**0.5, np.median(data) + st.norm.ppf(1-alpha/2)*var_median_resamp**0.5]\n",
    "    return list_1, median_resamp, var_median_resamp, mse_median_resamp, ci_median_resamp"
   ]
  },
  {
   "cell_type": "code",
   "execution_count": 8,
   "id": "25047935",
   "metadata": {},
   "outputs": [],
   "source": [
    "sample = [7, 11, 8, 30]"
   ]
  },
  {
   "cell_type": "code",
   "execution_count": 9,
   "id": "48528bab",
   "metadata": {},
   "outputs": [
    {
     "name": "stdout",
     "output_type": "stream",
     "text": [
      "Start Bootstrapping\n",
      "End Bootstrapping\n"
     ]
    }
   ],
   "source": [
    "resample, median_resamp, var_median_resamp, mse_median_resamp, ci_median_resamp = btmedian(list(sample), r=100, k=70)"
   ]
  },
  {
   "cell_type": "code",
   "execution_count": 10,
   "id": "619b8793",
   "metadata": {},
   "outputs": [
    {
     "name": "stdout",
     "output_type": "stream",
     "text": [
      "Median Sesungguhnya:  9.5\n",
      "Median Bootstrap:  9.455\n",
      "Var Median Bootstrap:  2.0454750000000006\n",
      "Error Bootstrap:  2.0475\n",
      "CI Median Bootstrap:  [6.69685748110102, 12.30314251889898]\n"
     ]
    }
   ],
   "source": [
    "print(\"Median Sesungguhnya: \", np.median(sample))\n",
    "print(\"Median Bootstrap: \", median_resamp)\n",
    "print(\"Var Median Bootstrap: \", var_median_resamp)\n",
    "print(\"Error Bootstrap: \", mse_median_resamp)\n",
    "print(\"CI Median Bootstrap: \", ci_median_resamp)"
   ]
  },
  {
   "cell_type": "code",
   "execution_count": 11,
   "id": "5e9fc4a8",
   "metadata": {},
   "outputs": [
    {
     "name": "stdout",
     "output_type": "stream",
     "text": [
      "Start Bootstrapping\n",
      "End Bootstrapping\n"
     ]
    },
    {
     "name": "stderr",
     "output_type": "stream",
     "text": [
      "C:\\Users\\LENOVO\\anaconda3\\lib\\site-packages\\seaborn\\distributions.py:2557: FutureWarning: `distplot` is a deprecated function and will be removed in a future version. Please adapt your code to use either `displot` (a figure-level function with similar flexibility) or `histplot` (an axes-level function for histograms).\n",
      "  warnings.warn(msg, FutureWarning)\n"
     ]
    },
    {
     "data": {
      "image/png": "[encoded data removed]",
      "text/plain": [
       "<Figure size 432x288 with 1 Axes>"
      ]
     },
     "metadata": {
      "needs_background": "light"
     },
     "output_type": "display_data"
    },
    {
     "name": "stdout",
     "output_type": "stream",
     "text": [
      "Median Bootstrap:  4.274728843742663\n"
     ]
    },
    {
     "name": "stderr",
     "output_type": "stream",
     "text": [
      "C:\\Users\\LENOVO\\anaconda3\\lib\\site-packages\\seaborn\\distributions.py:2557: FutureWarning: `distplot` is a deprecated function and will be removed in a future version. Please adapt your code to use either `displot` (a figure-level function with similar flexibility) or `histplot` (an axes-level function for histograms).\n",
      "  warnings.warn(msg, FutureWarning)\n"
     ]
    },
    {
     "data": {
      "image/png": "[encoded data removed]",
      "text/plain": [
       "<Figure size 432x288 with 1 Axes>"
      ]
     },
     "metadata": {
      "needs_background": "light"
     },
     "output_type": "display_data"
    },
    {
     "name": "stdout",
     "output_type": "stream",
     "text": [
      "Median True:  4.371023112390708\n"
     ]
    }
   ],
   "source": [
    "#chisquare - Bootstrap - Normal\n",
    "sample2 = np.random.chisquare(5, 100)\n",
    "resample, median_resample, _, _, _ = btmedian(list(sample2), r=1000, k=70)\n",
    "sns.distplot(resample)\n",
    "plt.show()\n",
    "print(\"Median Bootstrap: \", median_resample)\n",
    "sns.distplot(sample2)\n",
    "plt.show()\n",
    "print(\"Median True: \", np.median(sample2))"
   ]
  }
 ],
 "metadata": {
  "kernelspec": {
   "display_name": "Python 3",
   "language": "python",
   "name": "python3"
  },
  "language_info": {
   "codemirror_mode": {
    "name": "ipython",
    "version": 3
   },
   "file_extension": ".py",
   "mimetype": "text/x-python",
   "name": "python",
   "nbconvert_exporter": "python",
   "pygments_lexer": "ipython3",
   "version": "3.8.8"
  }
 },
 "nbformat": 4,
 "nbformat_minor": 5
}
